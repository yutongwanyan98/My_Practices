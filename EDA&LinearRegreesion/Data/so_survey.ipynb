{
 "cells": [
  {
   "cell_type": "code",
   "execution_count": 4,
   "metadata": {
    "ExecuteTime": {
     "end_time": "2020-12-08T21:28:48.709499Z",
     "start_time": "2020-12-08T21:28:48.706565Z"
    }
   },
   "outputs": [],
   "source": [
    "# for EDA\n",
    "import pandas as pd\n",
    "import numpy as np\n",
    "import matplotlib.pyplot as plt\n",
    "import seaborn as sns\n",
    "from collections import defaultdict\n",
    "\n",
    "# for regression analysis \n",
    "from sklearn.linear_model import LinearRegression\n",
    "from sklearn.model_selection import train_test_split\n",
    "from sklearn.metrics import r2_score, mean_squared_error\n"
   ]
  },
  {
   "cell_type": "code",
   "execution_count": 5,
   "metadata": {
    "ExecuteTime": {
     "end_time": "2020-12-08T21:28:51.863229Z",
     "start_time": "2020-12-08T21:28:50.807753Z"
    }
   },
   "outputs": [
    {
     "data": {
      "text/html": [
       "<div>\n",
       "<style scoped>\n",
       "    .dataframe tbody tr th:only-of-type {\n",
       "        vertical-align: middle;\n",
       "    }\n",
       "\n",
       "    .dataframe tbody tr th {\n",
       "        vertical-align: top;\n",
       "    }\n",
       "\n",
       "    .dataframe thead th {\n",
       "        text-align: right;\n",
       "    }\n",
       "</style>\n",
       "<table border=\"1\" class=\"dataframe\">\n",
       "  <thead>\n",
       "    <tr style=\"text-align: right;\">\n",
       "      <th></th>\n",
       "      <th>Respondent</th>\n",
       "      <th>MainBranch</th>\n",
       "      <th>Hobbyist</th>\n",
       "      <th>Age</th>\n",
       "      <th>Age1stCode</th>\n",
       "      <th>CompFreq</th>\n",
       "      <th>CompTotal</th>\n",
       "      <th>ConvertedComp</th>\n",
       "      <th>Country</th>\n",
       "      <th>CurrencyDesc</th>\n",
       "      <th>...</th>\n",
       "      <th>SurveyEase</th>\n",
       "      <th>SurveyLength</th>\n",
       "      <th>Trans</th>\n",
       "      <th>UndergradMajor</th>\n",
       "      <th>WebframeDesireNextYear</th>\n",
       "      <th>WebframeWorkedWith</th>\n",
       "      <th>WelcomeChange</th>\n",
       "      <th>WorkWeekHrs</th>\n",
       "      <th>YearsCode</th>\n",
       "      <th>YearsCodePro</th>\n",
       "    </tr>\n",
       "  </thead>\n",
       "  <tbody>\n",
       "    <tr>\n",
       "      <th>0</th>\n",
       "      <td>1</td>\n",
       "      <td>I am a developer by profession</td>\n",
       "      <td>Yes</td>\n",
       "      <td>NaN</td>\n",
       "      <td>13</td>\n",
       "      <td>Monthly</td>\n",
       "      <td>NaN</td>\n",
       "      <td>NaN</td>\n",
       "      <td>Germany</td>\n",
       "      <td>European Euro</td>\n",
       "      <td>...</td>\n",
       "      <td>Neither easy nor difficult</td>\n",
       "      <td>Appropriate in length</td>\n",
       "      <td>No</td>\n",
       "      <td>Computer science, computer engineering, or sof...</td>\n",
       "      <td>ASP.NET Core</td>\n",
       "      <td>ASP.NET;ASP.NET Core</td>\n",
       "      <td>Just as welcome now as I felt last year</td>\n",
       "      <td>50.0</td>\n",
       "      <td>36</td>\n",
       "      <td>27</td>\n",
       "    </tr>\n",
       "    <tr>\n",
       "      <th>1</th>\n",
       "      <td>2</td>\n",
       "      <td>I am a developer by profession</td>\n",
       "      <td>No</td>\n",
       "      <td>NaN</td>\n",
       "      <td>19</td>\n",
       "      <td>NaN</td>\n",
       "      <td>NaN</td>\n",
       "      <td>NaN</td>\n",
       "      <td>United Kingdom</td>\n",
       "      <td>Pound sterling</td>\n",
       "      <td>...</td>\n",
       "      <td>NaN</td>\n",
       "      <td>NaN</td>\n",
       "      <td>NaN</td>\n",
       "      <td>Computer science, computer engineering, or sof...</td>\n",
       "      <td>NaN</td>\n",
       "      <td>NaN</td>\n",
       "      <td>Somewhat more welcome now than last year</td>\n",
       "      <td>NaN</td>\n",
       "      <td>7</td>\n",
       "      <td>4</td>\n",
       "    </tr>\n",
       "    <tr>\n",
       "      <th>2</th>\n",
       "      <td>3</td>\n",
       "      <td>I code primarily as a hobby</td>\n",
       "      <td>Yes</td>\n",
       "      <td>NaN</td>\n",
       "      <td>15</td>\n",
       "      <td>NaN</td>\n",
       "      <td>NaN</td>\n",
       "      <td>NaN</td>\n",
       "      <td>Russian Federation</td>\n",
       "      <td>NaN</td>\n",
       "      <td>...</td>\n",
       "      <td>Neither easy nor difficult</td>\n",
       "      <td>Appropriate in length</td>\n",
       "      <td>NaN</td>\n",
       "      <td>NaN</td>\n",
       "      <td>NaN</td>\n",
       "      <td>NaN</td>\n",
       "      <td>Somewhat more welcome now than last year</td>\n",
       "      <td>NaN</td>\n",
       "      <td>4</td>\n",
       "      <td>NaN</td>\n",
       "    </tr>\n",
       "    <tr>\n",
       "      <th>3</th>\n",
       "      <td>4</td>\n",
       "      <td>I am a developer by profession</td>\n",
       "      <td>Yes</td>\n",
       "      <td>25.0</td>\n",
       "      <td>18</td>\n",
       "      <td>NaN</td>\n",
       "      <td>NaN</td>\n",
       "      <td>NaN</td>\n",
       "      <td>Albania</td>\n",
       "      <td>Albanian lek</td>\n",
       "      <td>...</td>\n",
       "      <td>NaN</td>\n",
       "      <td>NaN</td>\n",
       "      <td>No</td>\n",
       "      <td>Computer science, computer engineering, or sof...</td>\n",
       "      <td>NaN</td>\n",
       "      <td>NaN</td>\n",
       "      <td>Somewhat less welcome now than last year</td>\n",
       "      <td>40.0</td>\n",
       "      <td>7</td>\n",
       "      <td>4</td>\n",
       "    </tr>\n",
       "    <tr>\n",
       "      <th>4</th>\n",
       "      <td>5</td>\n",
       "      <td>I used to be a developer by profession, but no...</td>\n",
       "      <td>Yes</td>\n",
       "      <td>31.0</td>\n",
       "      <td>16</td>\n",
       "      <td>NaN</td>\n",
       "      <td>NaN</td>\n",
       "      <td>NaN</td>\n",
       "      <td>United States</td>\n",
       "      <td>NaN</td>\n",
       "      <td>...</td>\n",
       "      <td>Easy</td>\n",
       "      <td>Too short</td>\n",
       "      <td>No</td>\n",
       "      <td>Computer science, computer engineering, or sof...</td>\n",
       "      <td>Django;Ruby on Rails</td>\n",
       "      <td>Ruby on Rails</td>\n",
       "      <td>Just as welcome now as I felt last year</td>\n",
       "      <td>NaN</td>\n",
       "      <td>15</td>\n",
       "      <td>8</td>\n",
       "    </tr>\n",
       "  </tbody>\n",
       "</table>\n",
       "<p>5 rows × 61 columns</p>\n",
       "</div>"
      ],
      "text/plain": [
       "   Respondent                                         MainBranch Hobbyist  \\\n",
       "0           1                     I am a developer by profession      Yes   \n",
       "1           2                     I am a developer by profession       No   \n",
       "2           3                        I code primarily as a hobby      Yes   \n",
       "3           4                     I am a developer by profession      Yes   \n",
       "4           5  I used to be a developer by profession, but no...      Yes   \n",
       "\n",
       "    Age Age1stCode CompFreq  CompTotal  ConvertedComp             Country  \\\n",
       "0   NaN         13  Monthly        NaN            NaN             Germany   \n",
       "1   NaN         19      NaN        NaN            NaN      United Kingdom   \n",
       "2   NaN         15      NaN        NaN            NaN  Russian Federation   \n",
       "3  25.0         18      NaN        NaN            NaN             Albania   \n",
       "4  31.0         16      NaN        NaN            NaN       United States   \n",
       "\n",
       "     CurrencyDesc  ...                  SurveyEase           SurveyLength  \\\n",
       "0   European Euro  ...  Neither easy nor difficult  Appropriate in length   \n",
       "1  Pound sterling  ...                         NaN                    NaN   \n",
       "2             NaN  ...  Neither easy nor difficult  Appropriate in length   \n",
       "3    Albanian lek  ...                         NaN                    NaN   \n",
       "4             NaN  ...                        Easy              Too short   \n",
       "\n",
       "  Trans                                     UndergradMajor  \\\n",
       "0    No  Computer science, computer engineering, or sof...   \n",
       "1   NaN  Computer science, computer engineering, or sof...   \n",
       "2   NaN                                                NaN   \n",
       "3    No  Computer science, computer engineering, or sof...   \n",
       "4    No  Computer science, computer engineering, or sof...   \n",
       "\n",
       "  WebframeDesireNextYear    WebframeWorkedWith  \\\n",
       "0           ASP.NET Core  ASP.NET;ASP.NET Core   \n",
       "1                    NaN                   NaN   \n",
       "2                    NaN                   NaN   \n",
       "3                    NaN                   NaN   \n",
       "4   Django;Ruby on Rails         Ruby on Rails   \n",
       "\n",
       "                              WelcomeChange WorkWeekHrs YearsCode YearsCodePro  \n",
       "0   Just as welcome now as I felt last year        50.0        36           27  \n",
       "1  Somewhat more welcome now than last year         NaN         7            4  \n",
       "2  Somewhat more welcome now than last year         NaN         4          NaN  \n",
       "3  Somewhat less welcome now than last year        40.0         7            4  \n",
       "4   Just as welcome now as I felt last year         NaN        15            8  \n",
       "\n",
       "[5 rows x 61 columns]"
      ]
     },
     "execution_count": 5,
     "metadata": {},
     "output_type": "execute_result"
    }
   ],
   "source": [
    "data = pd.read_csv('Data/survey_results_public.csv')\n",
    "data.head()"
   ]
  },
  {
   "cell_type": "markdown",
   "metadata": {},
   "source": [
    "### Preliminary analysis"
   ]
  },
  {
   "cell_type": "code",
   "execution_count": 6,
   "metadata": {
    "ExecuteTime": {
     "end_time": "2020-12-08T21:28:55.649490Z",
     "start_time": "2020-12-08T21:28:55.500873Z"
    }
   },
   "outputs": [
    {
     "name": "stdout",
     "output_type": "stream",
     "text": [
      "<class 'pandas.core.frame.DataFrame'>\n",
      "RangeIndex: 64461 entries, 0 to 64460\n",
      "Data columns (total 61 columns):\n",
      " #   Column                        Non-Null Count  Dtype  \n",
      "---  ------                        --------------  -----  \n",
      " 0   Respondent                    64461 non-null  int64  \n",
      " 1   MainBranch                    64162 non-null  object \n",
      " 2   Hobbyist                      64416 non-null  object \n",
      " 3   Age                           45446 non-null  float64\n",
      " 4   Age1stCode                    57900 non-null  object \n",
      " 5   CompFreq                      40069 non-null  object \n",
      " 6   CompTotal                     34826 non-null  float64\n",
      " 7   ConvertedComp                 34756 non-null  float64\n",
      " 8   Country                       64072 non-null  object \n",
      " 9   CurrencyDesc                  45472 non-null  object \n",
      " 10  CurrencySymbol                45472 non-null  object \n",
      " 11  DatabaseDesireNextYear        44070 non-null  object \n",
      " 12  DatabaseWorkedWith            49537 non-null  object \n",
      " 13  DevType                       49370 non-null  object \n",
      " 14  EdLevel                       57431 non-null  object \n",
      " 15  Employment                    63854 non-null  object \n",
      " 16  Ethnicity                     45948 non-null  object \n",
      " 17  Gender                        50557 non-null  object \n",
      " 18  JobFactors                    49349 non-null  object \n",
      " 19  JobSat                        45194 non-null  object \n",
      " 20  JobSeek                       51727 non-null  object \n",
      " 21  LanguageDesireNextYear        54113 non-null  object \n",
      " 22  LanguageWorkedWith            57378 non-null  object \n",
      " 23  MiscTechDesireNextYear        42379 non-null  object \n",
      " 24  MiscTechWorkedWith            40314 non-null  object \n",
      " 25  NEWCollabToolsDesireNextYear  47287 non-null  object \n",
      " 26  NEWCollabToolsWorkedWith      52883 non-null  object \n",
      " 27  NEWDevOps                     42686 non-null  object \n",
      " 28  NEWDevOpsImpt                 41732 non-null  object \n",
      " 29  NEWEdImpt                     48465 non-null  object \n",
      " 30  NEWJobHunt                    42286 non-null  object \n",
      " 31  NEWJobHuntResearch            41022 non-null  object \n",
      " 32  NEWLearn                      56156 non-null  object \n",
      " 33  NEWOffTopic                   50804 non-null  object \n",
      " 34  NEWOnboardGood                42623 non-null  object \n",
      " 35  NEWOtherComms                 57205 non-null  object \n",
      " 36  NEWOvertime                   43231 non-null  object \n",
      " 37  NEWPurchaseResearch           37321 non-null  object \n",
      " 38  NEWPurpleLink                 54803 non-null  object \n",
      " 39  NEWSOSites                    58275 non-null  object \n",
      " 40  NEWStuck                      54983 non-null  object \n",
      " 41  OpSys                         56228 non-null  object \n",
      " 42  OrgSize                       44334 non-null  object \n",
      " 43  PlatformDesireNextYear        50605 non-null  object \n",
      " 44  PlatformWorkedWith            53843 non-null  object \n",
      " 45  PurchaseWhat                  39364 non-null  object \n",
      " 46  Sexuality                     43992 non-null  object \n",
      " 47  SOAccount                     56805 non-null  object \n",
      " 48  SOComm                        56476 non-null  object \n",
      " 49  SOPartFreq                    46792 non-null  object \n",
      " 50  SOVisitFreq                   56970 non-null  object \n",
      " 51  SurveyEase                    51802 non-null  object \n",
      " 52  SurveyLength                  51701 non-null  object \n",
      " 53  Trans                         49345 non-null  object \n",
      " 54  UndergradMajor                50995 non-null  object \n",
      " 55  WebframeDesireNextYear        40024 non-null  object \n",
      " 56  WebframeWorkedWith            42279 non-null  object \n",
      " 57  WelcomeChange                 52683 non-null  object \n",
      " 58  WorkWeekHrs                   41151 non-null  float64\n",
      " 59  YearsCode                     57684 non-null  object \n",
      " 60  YearsCodePro                  46349 non-null  object \n",
      "dtypes: float64(4), int64(1), object(56)\n",
      "memory usage: 30.0+ MB\n"
     ]
    }
   ],
   "source": [
    "data.info()"
   ]
  },
  {
   "cell_type": "code",
   "execution_count": 7,
   "metadata": {
    "ExecuteTime": {
     "end_time": "2020-12-08T21:28:58.666789Z",
     "start_time": "2020-12-08T21:28:58.663697Z"
    }
   },
   "outputs": [
    {
     "name": "stdout",
     "output_type": "stream",
     "text": [
      "rows: 64461, columns: 61\n"
     ]
    }
   ],
   "source": [
    "# shape of this data set \n",
    "print(f'rows: {data.shape[0]}, columns: {data.shape[1]}')"
   ]
  },
  {
   "cell_type": "code",
   "execution_count": 8,
   "metadata": {
    "ExecuteTime": {
     "end_time": "2020-12-08T21:29:05.820251Z",
     "start_time": "2020-12-08T21:29:05.659828Z"
    }
   },
   "outputs": [
    {
     "data": {
      "text/plain": [
       "Respondent            0.000000\n",
       "MainBranch            0.004638\n",
       "Hobbyist              0.000698\n",
       "Age                   0.294985\n",
       "Age1stCode            0.101782\n",
       "                        ...   \n",
       "WebframeWorkedWith    0.344115\n",
       "WelcomeChange         0.182715\n",
       "WorkWeekHrs           0.361614\n",
       "YearsCode             0.105133\n",
       "YearsCodePro          0.280976\n",
       "Length: 61, dtype: float64"
      ]
     },
     "execution_count": 8,
     "metadata": {},
     "output_type": "execute_result"
    }
   ],
   "source": [
    "# We want tp drop some of NaN value \n",
    "# percentage of null values in each columns?\n",
    "data.isnull().sum()/data.shape[0]"
   ]
  },
  {
   "cell_type": "code",
   "execution_count": 9,
   "metadata": {
    "ExecuteTime": {
     "end_time": "2020-12-08T21:29:07.756243Z",
     "start_time": "2020-12-08T21:29:07.728497Z"
    }
   },
   "outputs": [
    {
     "data": {
      "text/plain": [
       "34756"
      ]
     },
     "execution_count": 9,
     "metadata": {},
     "output_type": "execute_result"
    }
   ],
   "source": [
    "# drop rows without compensation total \n",
    "comp_2020 = data.dropna(subset = ['ConvertedComp'])\n",
    "comp_2020.shape[0]"
   ]
  },
  {
   "cell_type": "markdown",
   "metadata": {},
   "source": [
    "### Field of study"
   ]
  },
  {
   "cell_type": "code",
   "execution_count": 37,
   "metadata": {
    "ExecuteTime": {
     "end_time": "2020-12-08T22:55:03.755873Z",
     "start_time": "2020-12-08T22:55:03.746855Z"
    }
   },
   "outputs": [
    {
     "data": {
      "text/plain": [
       "Computer science, computer engineering, or software engineering                   20081\n",
       "Another engineering discipline (such as civil, electrical, mechanical, etc.)       2931\n",
       "Information systems, information technology, or system administration              2545\n",
       "A natural science (such as biology, chemistry, physics, etc.)                      1485\n",
       "Mathematics or statistics                                                          1199\n",
       "Web development or web design                                                       956\n",
       "A business discipline (such as accounting, finance, marketing, etc.)                825\n",
       "A humanities discipline (such as literature, history, philosophy, etc.)             719\n",
       "A social science (such as anthropology, psychology, political science, etc.)        620\n",
       "Fine arts or performing arts (such as graphic design, music, studio art, etc.)      508\n",
       "I never declared a major                                                            232\n",
       "A health science (such as nursing, pharmacy, radiology, etc.)                       127\n",
       "Name: UndergradMajor, dtype: int64"
      ]
     },
     "execution_count": 37,
     "metadata": {},
     "output_type": "execute_result"
    }
   ],
   "source": [
    "comp_2020['UndergradMajor'].value_counts()"
   ]
  },
  {
   "cell_type": "code",
   "execution_count": 36,
   "metadata": {
    "ExecuteTime": {
     "end_time": "2020-12-08T22:54:10.545785Z",
     "start_time": "2020-12-08T22:54:10.306976Z"
    }
   },
   "outputs": [
    {
     "data": {
      "text/plain": [
       "<matplotlib.axes._subplots.AxesSubplot at 0x7ff82a5f9ca0>"
      ]
     },
     "execution_count": 36,
     "metadata": {},
     "output_type": "execute_result"
    },
    {
     "data": {
      "image/png": "[encoded data removed]",
      "text/plain": [
       "<Figure size 576x432 with 1 Axes>"
      ]
     },
     "metadata": {
      "needs_background": "light"
     },
     "output_type": "display_data"
    }
   ],
   "source": [
    "\n",
    "plt.figure(figsize=(8,6))\n",
    "\n",
    "sns.countplot(y = 'UndergradMajor', data = comp_2020, color = 'orange', order = comp_2020['UndergradMajor'].value_counts().index)"
   ]
  },
  {
   "cell_type": "code",
   "execution_count": 79,
   "metadata": {
    "ExecuteTime": {
     "end_time": "2020-12-08T23:20:08.846389Z",
     "start_time": "2020-12-08T23:20:08.435024Z"
    }
   },
   "outputs": [
    {
     "data": {
      "text/plain": [
       "<matplotlib.axes._subplots.AxesSubplot at 0x7ff82a25b6a0>"
      ]
     },
     "execution_count": 79,
     "metadata": {},
     "output_type": "execute_result"
    },
    {
     "data": {
      "image/png": "[encoded data removed]",
      "text/plain": [
       "<Figure size 576x432 with 1 Axes>"
      ]
     },
     "metadata": {
      "needs_background": "light"
     },
     "output_type": "display_data"
    }
   ],
   "source": [
    "plt.figure(figsize=(8,6))\n",
    "\n",
    "sns.barplot(\n",
    "    x = 'ConvertedComp',\n",
    "    y = 'UndergradMajor',\n",
    "    data = comp_stem,\n",
    "    hue = 'STEM'\n",
    ")"
   ]
  },
  {
   "cell_type": "code",
   "execution_count": 107,
   "metadata": {
    "ExecuteTime": {
     "end_time": "2020-12-09T01:12:36.302964Z",
     "start_time": "2020-12-09T01:12:35.986124Z"
    }
   },
   "outputs": [
    {
     "data": {
      "text/plain": [
       "<matplotlib.legend.Legend at 0x7ff667100fd0>"
      ]
     },
     "execution_count": 107,
     "metadata": {},
     "output_type": "execute_result"
    },
    {
     "data": {
      "image/png": "[encoded data removed]",
      "text/plain": [
       "<Figure size 576x576 with 1 Axes>"
      ]
     },
     "metadata": {
      "needs_background": "light"
     },
     "output_type": "display_data"
    }
   ],
   "source": [
    "plt.figure(figsize=(8,8))\n",
    "\n",
    "sns.barplot(\n",
    "    x = 'ConvertedComp',\n",
    "    y = 'UndergradMajor',\n",
    "    data = comp_stem,\n",
    "    hue = 'MainBranch'\n",
    ")\n",
    "\n",
    "#plt.legend(loc='best', bbox_to_anchor=(2, 1), )\n",
    "plt.legend(bbox_to_anchor=(1.05, 1), loc=2, borderaxespad=0.)"
   ]
  },
  {
   "cell_type": "code",
   "execution_count": 137,
   "metadata": {
    "ExecuteTime": {
     "end_time": "2020-12-09T02:11:06.808100Z",
     "start_time": "2020-12-09T02:11:06.006954Z"
    }
   },
   "outputs": [
    {
     "data": {
      "text/plain": [
       "<seaborn.axisgrid.FacetGrid at 0x7ff66d44f160>"
      ]
     },
     "execution_count": 137,
     "metadata": {},
     "output_type": "execute_result"
    },
    {
     "data": {
      "image/png": "[encoded data removed]",
      "text/plain": [
       "<Figure size 2304x1152 with 4 Axes>"
      ]
     },
     "metadata": {
      "needs_background": "light"
     },
     "output_type": "display_data"
    }
   ],
   "source": [
    "\n",
    "g = sns.FacetGrid(comp_stem, col = 'MainBranch',row=\"STEM\",height=8,aspect=0)\n",
    "g.map_dataframe(sns.barplot, x= 'ConvertedComp', y='UndergradMajor')\n"
   ]
  },
  {
   "cell_type": "code",
   "execution_count": 41,
   "metadata": {
    "ExecuteTime": {
     "end_time": "2020-12-08T22:55:30.942760Z",
     "start_time": "2020-12-08T22:55:30.924139Z"
    }
   },
   "outputs": [
    {
     "name": "stderr",
     "output_type": "stream",
     "text": [
      "<ipython-input-41-53752722d06b>:19: SettingWithCopyWarning: \n",
      "A value is trying to be set on a copy of a slice from a DataFrame.\n",
      "Try using .loc[row_indexer,col_indexer] = value instead\n",
      "\n",
      "See the caveats in the documentation: https://pandas.pydata.org/pandas-docs/stable/user_guide/indexing.html#returning-a-view-versus-a-copy\n",
      "  comp_2020['STEM'] = comp_2020['UndergradMajor'].apply(major_stem)\n"
     ]
    }
   ],
   "source": [
    "# STEM major?\n",
    "\n",
    "major_1 = [\n",
    "    'Computer science, computer engineering, or software engineering',\n",
    "    'Another engineering discipline (such as civil, electrical, mechanical, etc.)',\n",
    "    'Information systems, information technology, or system administration',\n",
    "    'A natural science (such as biology, chemistry, physics, etc.)',\n",
    "    'Mathematics or statistics',\n",
    "    'A health science (such as nursing, pharmacy, radiology, etc.)',\n",
    "    'Web development or web design'\n",
    "]\n",
    "\n",
    "def major_stem(field):\n",
    "    if field in major_1:\n",
    "        return 1 \n",
    "    else:\n",
    "        return 0\n",
    "\n",
    "comp_2020['STEM'] = comp_2020['UndergradMajor'].apply(major_stem)\n",
    "# abour over 81% developers are directly from stem major; what they care most when choosing a new job?"
   ]
  },
  {
   "cell_type": "markdown",
   "metadata": {},
   "source": [
    "### Job factors"
   ]
  },
  {
   "cell_type": "code",
   "execution_count": 10,
   "metadata": {
    "ExecuteTime": {
     "end_time": "2020-12-08T21:29:10.181634Z",
     "start_time": "2020-12-08T21:29:10.172138Z"
    }
   },
   "outputs": [
    {
     "data": {
      "text/plain": [
       "Flex time or a flexible schedule;Languages, frameworks, and other technologies I’d be working with;Remote work options                                2019\n",
       "Flex time or a flexible schedule;Languages, frameworks, and other technologies I’d be working with;Office environment or company culture              1857\n",
       "Languages, frameworks, and other technologies I’d be working with;Office environment or company culture;Opportunities for professional development    1749\n",
       "Flex time or a flexible schedule;Languages, frameworks, and other technologies I’d be working with;Opportunities for professional development         1143\n",
       "Flex time or a flexible schedule;Remote work options;Office environment or company culture                                                            1131\n",
       "                                                                                                                                                      ... \n",
       "Diversity of the company or organization;Flex time or a flexible schedule                                                                                1\n",
       "Specific department or team I’d be working on;Remote work options                                                                                        1\n",
       "Diversity of the company or organization;Remote work options                                                                                             1\n",
       "Industry that I’d be working in;Family friendliness                                                                                                      1\n",
       "Diversity of the company or organization;How widely used or impactful my work output would be                                                            1\n",
       "Name: JobFactors, Length: 227, dtype: int64"
      ]
     },
     "execution_count": 10,
     "metadata": {},
     "output_type": "execute_result"
    }
   ],
   "source": [
    "# What people care most when they compare two new offers?\n",
    "# Respondent can submit multiple answers for this question. Therefoere, we need to break into these fields to see how they distribute\n",
    "\n",
    "comp_2020['JobFactors'].value_counts()\n"
   ]
  },
  {
   "cell_type": "code",
   "execution_count": 11,
   "metadata": {
    "ExecuteTime": {
     "end_time": "2020-12-08T21:29:11.943996Z",
     "start_time": "2020-12-08T21:29:11.933510Z"
    }
   },
   "outputs": [],
   "source": [
    "factors = comp_2020['JobFactors'].value_counts().reset_index()\n",
    "factors.rename(columns={'index': 'factor', 'JobFactors': 'count'}, inplace=True)"
   ]
  },
  {
   "cell_type": "code",
   "execution_count": 12,
   "metadata": {
    "ExecuteTime": {
     "end_time": "2020-12-08T21:29:14.221863Z",
     "start_time": "2020-12-08T21:29:14.160676Z"
    }
   },
   "outputs": [],
   "source": [
    "# Fromm schema file, we get all possible options of jab factors \n",
    "\n",
    "factor_list = [\n",
    "    'Remote work options',\n",
    "    'Office environment or company culture','Financial performance or funding status of the company or organization', \n",
    "    'Opportunities for professional development','Diversity of the company or organization', \n",
    "    'How widely used or impactful my work output would be', 'Industry that I’d be working in', \n",
    "    'Specific department or team I’d be working on', 'Flex time or a flexible schedule', \n",
    "    'Languages, frameworks, and other technologies I’d be working with','Family friendliness'\n",
    "]\n",
    "\n",
    "# now we parse the factor column; I'd borrow one of useful functions defined by Udacity's data science study materials \n",
    "\n",
    "def total_count(df, col1, col2, look_for):\n",
    "    '''\n",
    "    INPUT:\n",
    "    df - the pandas dataframe you want to search\n",
    "    col1 - the column name you want to look through\n",
    "    col2 - the column you want to count values from\n",
    "    look_for - a list of strings you want to search for in each row of df[col]\n",
    "\n",
    "    OUTPUT:\n",
    "    new_df - a dataframe of each look_for with the count of how often it shows up\n",
    "    '''\n",
    "    new_df = defaultdict(int)\n",
    "    #loop through list of ed types\n",
    "    for val in look_for:\n",
    "        #loop through rows\n",
    "        for idx in range(df.shape[0]):\n",
    "            #if the ed type is in the row, add the devs\n",
    "            if val in df[col1][idx]:\n",
    "                new_df[val] += int(df[col2][idx])\n",
    "    #clean up the resulting dataframe8\n",
    "    new_df = pd.DataFrame(pd.Series(new_df)).reset_index()\n",
    "    new_df.columns = [col1, col2]\n",
    "    new_df.sort_values('count', ascending=False, inplace=True)\n",
    "    return new_df\n",
    "\n",
    "parsed_factor = total_count(factors,'factor','count', factor_list)"
   ]
  },
  {
   "cell_type": "code",
   "execution_count": 540,
   "metadata": {},
   "outputs": [],
   "source": [
    "#parsed_factor.set_index('factor', inplace = True)"
   ]
  },
  {
   "cell_type": "code",
   "execution_count": 13,
   "metadata": {
    "ExecuteTime": {
     "end_time": "2020-12-08T21:29:18.210217Z",
     "start_time": "2020-12-08T21:29:18.206281Z"
    }
   },
   "outputs": [],
   "source": [
    "parsed_factor['pct'] = parsed_factor['count']/parsed_factor['count'].sum()*100"
   ]
  },
  {
   "cell_type": "code",
   "execution_count": 14,
   "metadata": {
    "ExecuteTime": {
     "end_time": "2020-12-08T21:29:20.097436Z",
     "start_time": "2020-12-08T21:29:20.090285Z"
    }
   },
   "outputs": [
    {
     "data": {
      "text/html": [
       "<div>\n",
       "<style scoped>\n",
       "    .dataframe tbody tr th:only-of-type {\n",
       "        vertical-align: middle;\n",
       "    }\n",
       "\n",
       "    .dataframe tbody tr th {\n",
       "        vertical-align: top;\n",
       "    }\n",
       "\n",
       "    .dataframe thead th {\n",
       "        text-align: right;\n",
       "    }\n",
       "</style>\n",
       "<table border=\"1\" class=\"dataframe\">\n",
       "  <thead>\n",
       "    <tr style=\"text-align: right;\">\n",
       "      <th></th>\n",
       "      <th>factor</th>\n",
       "      <th>count</th>\n",
       "      <th>pct</th>\n",
       "    </tr>\n",
       "  </thead>\n",
       "  <tbody>\n",
       "    <tr>\n",
       "      <th>9</th>\n",
       "      <td>Languages, frameworks, and other technologies ...</td>\n",
       "      <td>17328</td>\n",
       "      <td>17.698247</td>\n",
       "    </tr>\n",
       "    <tr>\n",
       "      <th>1</th>\n",
       "      <td>Office environment or company culture</td>\n",
       "      <td>15143</td>\n",
       "      <td>15.466560</td>\n",
       "    </tr>\n",
       "    <tr>\n",
       "      <th>8</th>\n",
       "      <td>Flex time or a flexible schedule</td>\n",
       "      <td>15032</td>\n",
       "      <td>15.353189</td>\n",
       "    </tr>\n",
       "    <tr>\n",
       "      <th>3</th>\n",
       "      <td>Opportunities for professional development</td>\n",
       "      <td>13336</td>\n",
       "      <td>13.620950</td>\n",
       "    </tr>\n",
       "    <tr>\n",
       "      <th>0</th>\n",
       "      <td>Remote work options</td>\n",
       "      <td>11719</td>\n",
       "      <td>11.969400</td>\n",
       "    </tr>\n",
       "    <tr>\n",
       "      <th>5</th>\n",
       "      <td>How widely used or impactful my work output wo...</td>\n",
       "      <td>6887</td>\n",
       "      <td>7.034155</td>\n",
       "    </tr>\n",
       "    <tr>\n",
       "      <th>6</th>\n",
       "      <td>Industry that I’d be working in</td>\n",
       "      <td>4807</td>\n",
       "      <td>4.909711</td>\n",
       "    </tr>\n",
       "    <tr>\n",
       "      <th>10</th>\n",
       "      <td>Family friendliness</td>\n",
       "      <td>3970</td>\n",
       "      <td>4.054827</td>\n",
       "    </tr>\n",
       "    <tr>\n",
       "      <th>7</th>\n",
       "      <td>Specific department or team I’d be working on</td>\n",
       "      <td>3754</td>\n",
       "      <td>3.834212</td>\n",
       "    </tr>\n",
       "    <tr>\n",
       "      <th>2</th>\n",
       "      <td>Financial performance or funding status of the...</td>\n",
       "      <td>3720</td>\n",
       "      <td>3.799485</td>\n",
       "    </tr>\n",
       "    <tr>\n",
       "      <th>4</th>\n",
       "      <td>Diversity of the company or organization</td>\n",
       "      <td>2212</td>\n",
       "      <td>2.259264</td>\n",
       "    </tr>\n",
       "  </tbody>\n",
       "</table>\n",
       "</div>"
      ],
      "text/plain": [
       "                                               factor  count        pct\n",
       "9   Languages, frameworks, and other technologies ...  17328  17.698247\n",
       "1               Office environment or company culture  15143  15.466560\n",
       "8                    Flex time or a flexible schedule  15032  15.353189\n",
       "3          Opportunities for professional development  13336  13.620950\n",
       "0                                 Remote work options  11719  11.969400\n",
       "5   How widely used or impactful my work output wo...   6887   7.034155\n",
       "6                     Industry that I’d be working in   4807   4.909711\n",
       "10                                Family friendliness   3970   4.054827\n",
       "7       Specific department or team I’d be working on   3754   3.834212\n",
       "2   Financial performance or funding status of the...   3720   3.799485\n",
       "4            Diversity of the company or organization   2212   2.259264"
      ]
     },
     "execution_count": 14,
     "metadata": {},
     "output_type": "execute_result"
    }
   ],
   "source": [
    "parsed_factor"
   ]
  },
  {
   "cell_type": "code",
   "execution_count": 15,
   "metadata": {
    "ExecuteTime": {
     "end_time": "2020-12-08T21:29:22.591646Z",
     "start_time": "2020-12-08T21:29:22.343082Z"
    },
    "scrolled": true
   },
   "outputs": [
    {
     "data": {
      "text/plain": [
       "<matplotlib.axes._subplots.AxesSubplot at 0x7ff827638af0>"
      ]
     },
     "execution_count": 15,
     "metadata": {},
     "output_type": "execute_result"
    },
    {
     "data": {
      "image/png": "[encoded data removed]",
      "text/plain": [
       "<Figure size 576x432 with 1 Axes>"
      ]
     },
     "metadata": {
      "needs_background": "light"
     },
     "output_type": "display_data"
    }
   ],
   "source": [
    "\n",
    "plt.figure(figsize=(8,6))\n",
    "\n",
    "sns.barplot(\n",
    "    x = 'pct',\n",
    "    y = 'factor',\n",
    "    data = parsed_factor,\n",
    "    color = 'orange'\n",
    ")"
   ]
  },
  {
   "cell_type": "code",
   "execution_count": 83,
   "metadata": {
    "ExecuteTime": {
     "end_time": "2020-12-09T00:16:26.804544Z",
     "start_time": "2020-12-09T00:16:26.750911Z"
    }
   },
   "outputs": [
    {
     "data": {
      "text/html": [
       "<div>\n",
       "<style scoped>\n",
       "    .dataframe tbody tr th:only-of-type {\n",
       "        vertical-align: middle;\n",
       "    }\n",
       "\n",
       "    .dataframe tbody tr th {\n",
       "        vertical-align: top;\n",
       "    }\n",
       "\n",
       "    .dataframe thead th {\n",
       "        text-align: right;\n",
       "    }\n",
       "</style>\n",
       "<table border=\"1\" class=\"dataframe\">\n",
       "  <thead>\n",
       "    <tr style=\"text-align: right;\">\n",
       "      <th></th>\n",
       "      <th>ConvertedComp</th>\n",
       "    </tr>\n",
       "    <tr>\n",
       "      <th>UndergradMajor</th>\n",
       "      <th></th>\n",
       "    </tr>\n",
       "  </thead>\n",
       "  <tbody>\n",
       "    <tr>\n",
       "      <th>Mathematics or statistics</th>\n",
       "      <td>130102.592994</td>\n",
       "    </tr>\n",
       "    <tr>\n",
       "      <th>A natural science (such as biology, chemistry, physics, etc.)</th>\n",
       "      <td>113949.783838</td>\n",
       "    </tr>\n",
       "    <tr>\n",
       "      <th>Computer science, computer engineering, or software engineering</th>\n",
       "      <td>102308.640904</td>\n",
       "    </tr>\n",
       "    <tr>\n",
       "      <th>Information systems, information technology, or system administration</th>\n",
       "      <td>93816.513949</td>\n",
       "    </tr>\n",
       "    <tr>\n",
       "      <th>Another engineering discipline (such as civil, electrical, mechanical, etc.)</th>\n",
       "      <td>92776.573866</td>\n",
       "    </tr>\n",
       "    <tr>\n",
       "      <th>Web development or web design</th>\n",
       "      <td>79894.124477</td>\n",
       "    </tr>\n",
       "    <tr>\n",
       "      <th>A health science (such as nursing, pharmacy, radiology, etc.)</th>\n",
       "      <td>70738.669291</td>\n",
       "    </tr>\n",
       "  </tbody>\n",
       "</table>\n",
       "</div>"
      ],
      "text/plain": [
       "                                                    ConvertedComp\n",
       "UndergradMajor                                                   \n",
       "Mathematics or statistics                           130102.592994\n",
       "A natural science (such as biology, chemistry, ...  113949.783838\n",
       "Computer science, computer engineering, or soft...  102308.640904\n",
       "Information systems, information technology, or...   93816.513949\n",
       "Another engineering discipline (such as civil, ...   92776.573866\n",
       "Web development or web design                        79894.124477\n",
       "A health science (such as nursing, pharmacy, ra...   70738.669291"
      ]
     },
     "execution_count": 83,
     "metadata": {},
     "output_type": "execute_result"
    }
   ],
   "source": [
    "# Do those STEM and non-STEM background developers earn different levels of compensation?\n",
    "\n",
    "stem_df = comp_2020.loc[comp_2020['STEM'] == 1]\n",
    "non_stem_df = comp_2020[comp_2020['STEM'] != 1]\n",
    "\n",
    "stem_c = stem_df.groupby('UndergradMajor').agg({'ConvertedComp':'mean'}).sort_values(by = 'ConvertedComp', ascending = False)\n",
    "stem_c"
   ]
  },
  {
   "cell_type": "code",
   "execution_count": 84,
   "metadata": {
    "ExecuteTime": {
     "end_time": "2020-12-09T00:16:34.886798Z",
     "start_time": "2020-12-09T00:16:34.875952Z"
    }
   },
   "outputs": [
    {
     "data": {
      "text/html": [
       "<div>\n",
       "<style scoped>\n",
       "    .dataframe tbody tr th:only-of-type {\n",
       "        vertical-align: middle;\n",
       "    }\n",
       "\n",
       "    .dataframe tbody tr th {\n",
       "        vertical-align: top;\n",
       "    }\n",
       "\n",
       "    .dataframe thead th {\n",
       "        text-align: right;\n",
       "    }\n",
       "</style>\n",
       "<table border=\"1\" class=\"dataframe\">\n",
       "  <thead>\n",
       "    <tr style=\"text-align: right;\">\n",
       "      <th></th>\n",
       "      <th>ConvertedComp</th>\n",
       "    </tr>\n",
       "    <tr>\n",
       "      <th>UndergradMajor</th>\n",
       "      <th></th>\n",
       "    </tr>\n",
       "  </thead>\n",
       "  <tbody>\n",
       "    <tr>\n",
       "      <th>Fine arts or performing arts (such as graphic design, music, studio art, etc.)</th>\n",
       "      <td>159630.374016</td>\n",
       "    </tr>\n",
       "    <tr>\n",
       "      <th>A humanities discipline (such as literature, history, philosophy, etc.)</th>\n",
       "      <td>145240.655076</td>\n",
       "    </tr>\n",
       "    <tr>\n",
       "      <th>I never declared a major</th>\n",
       "      <td>134906.594828</td>\n",
       "    </tr>\n",
       "    <tr>\n",
       "      <th>A social science (such as anthropology, psychology, political science, etc.)</th>\n",
       "      <td>130689.137097</td>\n",
       "    </tr>\n",
       "    <tr>\n",
       "      <th>A business discipline (such as accounting, finance, marketing, etc.)</th>\n",
       "      <td>109906.890909</td>\n",
       "    </tr>\n",
       "  </tbody>\n",
       "</table>\n",
       "</div>"
      ],
      "text/plain": [
       "                                                    ConvertedComp\n",
       "UndergradMajor                                                   \n",
       "Fine arts or performing arts (such as graphic d...  159630.374016\n",
       "A humanities discipline (such as literature, hi...  145240.655076\n",
       "I never declared a major                            134906.594828\n",
       "A social science (such as anthropology, psychol...  130689.137097\n",
       "A business discipline (such as accounting, fina...  109906.890909"
      ]
     },
     "execution_count": 84,
     "metadata": {},
     "output_type": "execute_result"
    }
   ],
   "source": [
    "non_stem_c = non_stem_df.groupby('UndergradMajor').agg({'ConvertedComp':'mean'}).sort_values(by = 'ConvertedComp', ascending = False)\n",
    "non_stem_c"
   ]
  },
  {
   "cell_type": "code",
   "execution_count": null,
   "metadata": {},
   "outputs": [],
   "source": []
  },
  {
   "cell_type": "code",
   "execution_count": 85,
   "metadata": {
    "ExecuteTime": {
     "end_time": "2020-12-09T01:01:54.686744Z",
     "start_time": "2020-12-09T01:01:54.525872Z"
    }
   },
   "outputs": [
    {
     "data": {
      "text/html": [
       "<div>\n",
       "<style scoped>\n",
       "    .dataframe tbody tr th:only-of-type {\n",
       "        vertical-align: middle;\n",
       "    }\n",
       "\n",
       "    .dataframe tbody tr th {\n",
       "        vertical-align: top;\n",
       "    }\n",
       "\n",
       "    .dataframe thead th {\n",
       "        text-align: right;\n",
       "    }\n",
       "</style>\n",
       "<table border=\"1\" class=\"dataframe\">\n",
       "  <thead>\n",
       "    <tr style=\"text-align: right;\">\n",
       "      <th></th>\n",
       "      <th>STEM</th>\n",
       "      <th>UndergradMajor</th>\n",
       "      <th>MainBranch</th>\n",
       "      <th>ConvertedComp</th>\n",
       "    </tr>\n",
       "  </thead>\n",
       "  <tbody>\n",
       "    <tr>\n",
       "      <th>0</th>\n",
       "      <td>0</td>\n",
       "      <td>Fine arts or performing arts (such as graphic ...</td>\n",
       "      <td>I am a developer by profession</td>\n",
       "      <td>162858.770642</td>\n",
       "    </tr>\n",
       "    <tr>\n",
       "      <th>1</th>\n",
       "      <td>0</td>\n",
       "      <td>A humanities discipline (such as literature, h...</td>\n",
       "      <td>I am not primarily a developer, but I write co...</td>\n",
       "      <td>158445.320000</td>\n",
       "    </tr>\n",
       "    <tr>\n",
       "      <th>2</th>\n",
       "      <td>0</td>\n",
       "      <td>A humanities discipline (such as literature, h...</td>\n",
       "      <td>I am a developer by profession</td>\n",
       "      <td>143107.429725</td>\n",
       "    </tr>\n",
       "    <tr>\n",
       "      <th>3</th>\n",
       "      <td>0</td>\n",
       "      <td>I never declared a major</td>\n",
       "      <td>I am a developer by profession</td>\n",
       "      <td>141413.300000</td>\n",
       "    </tr>\n",
       "    <tr>\n",
       "      <th>4</th>\n",
       "      <td>0</td>\n",
       "      <td>Fine arts or performing arts (such as graphic ...</td>\n",
       "      <td>I am not primarily a developer, but I write co...</td>\n",
       "      <td>140080.638889</td>\n",
       "    </tr>\n",
       "    <tr>\n",
       "      <th>5</th>\n",
       "      <td>0</td>\n",
       "      <td>A social science (such as anthropology, psycho...</td>\n",
       "      <td>I am not primarily a developer, but I write co...</td>\n",
       "      <td>137041.938356</td>\n",
       "    </tr>\n",
       "    <tr>\n",
       "      <th>6</th>\n",
       "      <td>1</td>\n",
       "      <td>Information systems, information technology, o...</td>\n",
       "      <td>I am not primarily a developer, but I write co...</td>\n",
       "      <td>132389.252336</td>\n",
       "    </tr>\n",
       "    <tr>\n",
       "      <th>7</th>\n",
       "      <td>1</td>\n",
       "      <td>Mathematics or statistics</td>\n",
       "      <td>I am a developer by profession</td>\n",
       "      <td>131672.756345</td>\n",
       "    </tr>\n",
       "    <tr>\n",
       "      <th>8</th>\n",
       "      <td>0</td>\n",
       "      <td>A social science (such as anthropology, psycho...</td>\n",
       "      <td>I am a developer by profession</td>\n",
       "      <td>128732.367089</td>\n",
       "    </tr>\n",
       "    <tr>\n",
       "      <th>9</th>\n",
       "      <td>1</td>\n",
       "      <td>Mathematics or statistics</td>\n",
       "      <td>I am not primarily a developer, but I write co...</td>\n",
       "      <td>122875.439252</td>\n",
       "    </tr>\n",
       "    <tr>\n",
       "      <th>10</th>\n",
       "      <td>1</td>\n",
       "      <td>A natural science (such as biology, chemistry,...</td>\n",
       "      <td>I am a developer by profession</td>\n",
       "      <td>114719.087254</td>\n",
       "    </tr>\n",
       "    <tr>\n",
       "      <th>11</th>\n",
       "      <td>0</td>\n",
       "      <td>A business discipline (such as accounting, fin...</td>\n",
       "      <td>I am a developer by profession</td>\n",
       "      <td>112321.981791</td>\n",
       "    </tr>\n",
       "    <tr>\n",
       "      <th>12</th>\n",
       "      <td>1</td>\n",
       "      <td>Computer science, computer engineering, or sof...</td>\n",
       "      <td>I am not primarily a developer, but I write co...</td>\n",
       "      <td>112094.329626</td>\n",
       "    </tr>\n",
       "    <tr>\n",
       "      <th>13</th>\n",
       "      <td>1</td>\n",
       "      <td>Web development or web design</td>\n",
       "      <td>I am not primarily a developer, but I write co...</td>\n",
       "      <td>111982.923077</td>\n",
       "    </tr>\n",
       "    <tr>\n",
       "      <th>14</th>\n",
       "      <td>1</td>\n",
       "      <td>A natural science (such as biology, chemistry,...</td>\n",
       "      <td>I am not primarily a developer, but I write co...</td>\n",
       "      <td>111103.848101</td>\n",
       "    </tr>\n",
       "    <tr>\n",
       "      <th>15</th>\n",
       "      <td>1</td>\n",
       "      <td>Computer science, computer engineering, or sof...</td>\n",
       "      <td>I am a developer by profession</td>\n",
       "      <td>101801.724597</td>\n",
       "    </tr>\n",
       "    <tr>\n",
       "      <th>16</th>\n",
       "      <td>0</td>\n",
       "      <td>A business discipline (such as accounting, fin...</td>\n",
       "      <td>I am not primarily a developer, but I write co...</td>\n",
       "      <td>100319.271084</td>\n",
       "    </tr>\n",
       "    <tr>\n",
       "      <th>17</th>\n",
       "      <td>1</td>\n",
       "      <td>Another engineering discipline (such as civil,...</td>\n",
       "      <td>I am not primarily a developer, but I write co...</td>\n",
       "      <td>97358.875000</td>\n",
       "    </tr>\n",
       "    <tr>\n",
       "      <th>18</th>\n",
       "      <td>1</td>\n",
       "      <td>Another engineering discipline (such as civil,...</td>\n",
       "      <td>I am a developer by profession</td>\n",
       "      <td>91879.183191</td>\n",
       "    </tr>\n",
       "    <tr>\n",
       "      <th>19</th>\n",
       "      <td>1</td>\n",
       "      <td>Information systems, information technology, o...</td>\n",
       "      <td>I am a developer by profession</td>\n",
       "      <td>88249.135791</td>\n",
       "    </tr>\n",
       "    <tr>\n",
       "      <th>20</th>\n",
       "      <td>1</td>\n",
       "      <td>Web development or web design</td>\n",
       "      <td>I am a developer by profession</td>\n",
       "      <td>78529.388222</td>\n",
       "    </tr>\n",
       "    <tr>\n",
       "      <th>21</th>\n",
       "      <td>1</td>\n",
       "      <td>A health science (such as nursing, pharmacy, r...</td>\n",
       "      <td>I am not primarily a developer, but I write co...</td>\n",
       "      <td>73178.605263</td>\n",
       "    </tr>\n",
       "    <tr>\n",
       "      <th>22</th>\n",
       "      <td>0</td>\n",
       "      <td>I never declared a major</td>\n",
       "      <td>I am not primarily a developer, but I write co...</td>\n",
       "      <td>72797.136364</td>\n",
       "    </tr>\n",
       "    <tr>\n",
       "      <th>23</th>\n",
       "      <td>1</td>\n",
       "      <td>A health science (such as nursing, pharmacy, r...</td>\n",
       "      <td>I am a developer by profession</td>\n",
       "      <td>69696.898876</td>\n",
       "    </tr>\n",
       "  </tbody>\n",
       "</table>\n",
       "</div>"
      ],
      "text/plain": [
       "    STEM                                     UndergradMajor  \\\n",
       "0      0  Fine arts or performing arts (such as graphic ...   \n",
       "1      0  A humanities discipline (such as literature, h...   \n",
       "2      0  A humanities discipline (such as literature, h...   \n",
       "3      0                           I never declared a major   \n",
       "4      0  Fine arts or performing arts (such as graphic ...   \n",
       "5      0  A social science (such as anthropology, psycho...   \n",
       "6      1  Information systems, information technology, o...   \n",
       "7      1                          Mathematics or statistics   \n",
       "8      0  A social science (such as anthropology, psycho...   \n",
       "9      1                          Mathematics or statistics   \n",
       "10     1  A natural science (such as biology, chemistry,...   \n",
       "11     0  A business discipline (such as accounting, fin...   \n",
       "12     1  Computer science, computer engineering, or sof...   \n",
       "13     1                      Web development or web design   \n",
       "14     1  A natural science (such as biology, chemistry,...   \n",
       "15     1  Computer science, computer engineering, or sof...   \n",
       "16     0  A business discipline (such as accounting, fin...   \n",
       "17     1  Another engineering discipline (such as civil,...   \n",
       "18     1  Another engineering discipline (such as civil,...   \n",
       "19     1  Information systems, information technology, o...   \n",
       "20     1                      Web development or web design   \n",
       "21     1  A health science (such as nursing, pharmacy, r...   \n",
       "22     0                           I never declared a major   \n",
       "23     1  A health science (such as nursing, pharmacy, r...   \n",
       "\n",
       "                                           MainBranch  ConvertedComp  \n",
       "0                      I am a developer by profession  162858.770642  \n",
       "1   I am not primarily a developer, but I write co...  158445.320000  \n",
       "2                      I am a developer by profession  143107.429725  \n",
       "3                      I am a developer by profession  141413.300000  \n",
       "4   I am not primarily a developer, but I write co...  140080.638889  \n",
       "5   I am not primarily a developer, but I write co...  137041.938356  \n",
       "6   I am not primarily a developer, but I write co...  132389.252336  \n",
       "7                      I am a developer by profession  131672.756345  \n",
       "8                      I am a developer by profession  128732.367089  \n",
       "9   I am not primarily a developer, but I write co...  122875.439252  \n",
       "10                     I am a developer by profession  114719.087254  \n",
       "11                     I am a developer by profession  112321.981791  \n",
       "12  I am not primarily a developer, but I write co...  112094.329626  \n",
       "13  I am not primarily a developer, but I write co...  111982.923077  \n",
       "14  I am not primarily a developer, but I write co...  111103.848101  \n",
       "15                     I am a developer by profession  101801.724597  \n",
       "16  I am not primarily a developer, but I write co...  100319.271084  \n",
       "17  I am not primarily a developer, but I write co...   97358.875000  \n",
       "18                     I am a developer by profession   91879.183191  \n",
       "19                     I am a developer by profession   88249.135791  \n",
       "20                     I am a developer by profession   78529.388222  \n",
       "21  I am not primarily a developer, but I write co...   73178.605263  \n",
       "22  I am not primarily a developer, but I write co...   72797.136364  \n",
       "23                     I am a developer by profession   69696.898876  "
      ]
     },
     "execution_count": 85,
     "metadata": {},
     "output_type": "execute_result"
    }
   ],
   "source": [
    "comp_stem = comp_2020.groupby(['STEM','UndergradMajor','MainBranch']).agg({'ConvertedComp':'mean'}).sort_values(by = 'ConvertedComp', ascending = False).reset_index()\n",
    "comp_stem"
   ]
  },
  {
   "cell_type": "code",
   "execution_count": 42,
   "metadata": {
    "ExecuteTime": {
     "end_time": "2020-12-08T22:55:32.752173Z",
     "start_time": "2020-12-08T22:55:32.619420Z"
    }
   },
   "outputs": [],
   "source": [
    "stem_1 = comp_2020[comp_2020['STEM'] == 1]\n",
    "stem_0 = comp_2020[comp_2020['STEM'] == 0]\n",
    "\n",
    "def count_factor(df):\n",
    "    df_new = df['JobFactors'].value_counts().reset_index()\n",
    "    df_new.rename(columns={'index': 'factor', 'JobFactors': 'count'}, inplace=True)\n",
    "    df_new = total_count(df_new, 'factor', 'count', factor_list)\n",
    "    df_new['pct'] = df_new['count']/df_new['count'].sum()*100\n",
    "\n",
    "    return df_new\n",
    "\n",
    "stem_1_count = count_factor(stem_1)\n",
    "stem_0_count = count_factor(stem_0)"
   ]
  },
  {
   "cell_type": "code",
   "execution_count": 43,
   "metadata": {
    "ExecuteTime": {
     "end_time": "2020-12-08T22:55:34.609822Z",
     "start_time": "2020-12-08T22:55:34.590292Z"
    }
   },
   "outputs": [
    {
     "data": {
      "text/html": [
       "<style  type=\"text/css\" >\n",
       "    #T_7b036066_39a8_11eb_a7be_acde48001122row0_col5 {\n",
       "            width:  10em;\n",
       "             height:  80%;\n",
       "            background:  linear-gradient(90deg, transparent 64.8%, #5fba7d 64.8%, #5fba7d 100.0%, transparent 100.0%);\n",
       "        }    #T_7b036066_39a8_11eb_a7be_acde48001122row1_col5 {\n",
       "            width:  10em;\n",
       "             height:  80%;\n",
       "            background:  linear-gradient(90deg, transparent 64.8%, #5fba7d 64.8%, #5fba7d 82.4%, transparent 82.4%);\n",
       "        }    #T_7b036066_39a8_11eb_a7be_acde48001122row2_col5 {\n",
       "            width:  10em;\n",
       "             height:  80%;\n",
       "            background:  linear-gradient(90deg, transparent 64.8%, #5fba7d 64.8%, #5fba7d 92.0%, transparent 92.0%);\n",
       "        }    #T_7b036066_39a8_11eb_a7be_acde48001122row3_col5 {\n",
       "            width:  10em;\n",
       "             height:  80%;\n",
       "            background:  linear-gradient(90deg, transparent 64.8%, #5fba7d 64.8%, #5fba7d 83.3%, transparent 83.3%);\n",
       "        }    #T_7b036066_39a8_11eb_a7be_acde48001122row4_col5 {\n",
       "            width:  10em;\n",
       "             height:  80%;\n",
       "            background:  linear-gradient(90deg,#d65f5f 64.8%, transparent 64.8%);\n",
       "        }    #T_7b036066_39a8_11eb_a7be_acde48001122row5_col5 {\n",
       "            width:  10em;\n",
       "             height:  80%;\n",
       "            background:  linear-gradient(90deg, transparent 64.8%, #5fba7d 64.8%, #5fba7d 83.2%, transparent 83.2%);\n",
       "        }    #T_7b036066_39a8_11eb_a7be_acde48001122row6_col5 {\n",
       "            width:  10em;\n",
       "             height:  80%;\n",
       "            background:  linear-gradient(90deg, transparent 54.2%, #d65f5f 54.2%, #d65f5f 64.8%, transparent 64.8%);\n",
       "        }    #T_7b036066_39a8_11eb_a7be_acde48001122row7_col5 {\n",
       "            width:  10em;\n",
       "             height:  80%;\n",
       "            background:  linear-gradient(90deg, transparent 51.9%, #d65f5f 51.9%, #d65f5f 64.8%, transparent 64.8%);\n",
       "        }    #T_7b036066_39a8_11eb_a7be_acde48001122row8_col5 {\n",
       "            width:  10em;\n",
       "             height:  80%;\n",
       "            background:  linear-gradient(90deg, transparent 64.8%, #5fba7d 64.8%, #5fba7d 73.1%, transparent 73.1%);\n",
       "        }    #T_7b036066_39a8_11eb_a7be_acde48001122row9_col5 {\n",
       "            width:  10em;\n",
       "             height:  80%;\n",
       "            background:  linear-gradient(90deg, transparent 61.9%, #d65f5f 61.9%, #d65f5f 64.8%, transparent 64.8%);\n",
       "        }    #T_7b036066_39a8_11eb_a7be_acde48001122row10_col5 {\n",
       "            width:  10em;\n",
       "             height:  80%;\n",
       "            background:  linear-gradient(90deg, transparent 31.0%, #d65f5f 31.0%, #d65f5f 64.8%, transparent 64.8%);\n",
       "        }</style><table id=\"T_7b036066_39a8_11eb_a7be_acde48001122\" ><thead>    <tr>        <th class=\"blank level0\" ></th>        <th class=\"col_heading level0 col0\" >factor</th>        <th class=\"col_heading level0 col1\" >stem_1_count</th>        <th class=\"col_heading level0 col2\" >stem_1_pct</th>        <th class=\"col_heading level0 col3\" >stem_0_count</th>        <th class=\"col_heading level0 col4\" >stem_0_pct</th>        <th class=\"col_heading level0 col5\" >pct_diff</th>    </tr></thead><tbody>\n",
       "                <tr>\n",
       "                        <th id=\"T_7b036066_39a8_11eb_a7be_acde48001122level0_row0\" class=\"row_heading level0 row0\" >0</th>\n",
       "                        <td id=\"T_7b036066_39a8_11eb_a7be_acde48001122row0_col0\" class=\"data row0 col0\" >Languages, frameworks, and other technologies I’d be working with</td>\n",
       "                        <td id=\"T_7b036066_39a8_11eb_a7be_acde48001122row0_col1\" class=\"data row0 col1\" >14772</td>\n",
       "                        <td id=\"T_7b036066_39a8_11eb_a7be_acde48001122row0_col2\" class=\"data row0 col2\" >17.861072</td>\n",
       "                        <td id=\"T_7b036066_39a8_11eb_a7be_acde48001122row0_col3\" class=\"data row0 col3\" >2556</td>\n",
       "                        <td id=\"T_7b036066_39a8_11eb_a7be_acde48001122row0_col4\" class=\"data row0 col4\" >16.812471</td>\n",
       "                        <td id=\"T_7b036066_39a8_11eb_a7be_acde48001122row0_col5\" class=\"data row0 col5\" >1.048601</td>\n",
       "            </tr>\n",
       "            <tr>\n",
       "                        <th id=\"T_7b036066_39a8_11eb_a7be_acde48001122level0_row1\" class=\"row_heading level0 row1\" >1</th>\n",
       "                        <td id=\"T_7b036066_39a8_11eb_a7be_acde48001122row1_col0\" class=\"data row1 col0\" >Office environment or company culture</td>\n",
       "                        <td id=\"T_7b036066_39a8_11eb_a7be_acde48001122row1_col1\" class=\"data row1 col1\" >12859</td>\n",
       "                        <td id=\"T_7b036066_39a8_11eb_a7be_acde48001122row1_col2\" class=\"data row1 col2\" >15.548032</td>\n",
       "                        <td id=\"T_7b036066_39a8_11eb_a7be_acde48001122row1_col3\" class=\"data row1 col3\" >2284</td>\n",
       "                        <td id=\"T_7b036066_39a8_11eb_a7be_acde48001122row1_col4\" class=\"data row1 col4\" >15.023351</td>\n",
       "                        <td id=\"T_7b036066_39a8_11eb_a7be_acde48001122row1_col5\" class=\"data row1 col5\" >0.524682</td>\n",
       "            </tr>\n",
       "            <tr>\n",
       "                        <th id=\"T_7b036066_39a8_11eb_a7be_acde48001122level0_row2\" class=\"row_heading level0 row2\" >2</th>\n",
       "                        <td id=\"T_7b036066_39a8_11eb_a7be_acde48001122row2_col0\" class=\"data row2 col0\" >Flex time or a flexible schedule</td>\n",
       "                        <td id=\"T_7b036066_39a8_11eb_a7be_acde48001122row2_col1\" class=\"data row2 col1\" >12802</td>\n",
       "                        <td id=\"T_7b036066_39a8_11eb_a7be_acde48001122row2_col2\" class=\"data row2 col2\" >15.479113</td>\n",
       "                        <td id=\"T_7b036066_39a8_11eb_a7be_acde48001122row2_col3\" class=\"data row2 col3\" >2230</td>\n",
       "                        <td id=\"T_7b036066_39a8_11eb_a7be_acde48001122row2_col4\" class=\"data row2 col4\" >14.668158</td>\n",
       "                        <td id=\"T_7b036066_39a8_11eb_a7be_acde48001122row2_col5\" class=\"data row2 col5\" >0.810955</td>\n",
       "            </tr>\n",
       "            <tr>\n",
       "                        <th id=\"T_7b036066_39a8_11eb_a7be_acde48001122level0_row3\" class=\"row_heading level0 row3\" >3</th>\n",
       "                        <td id=\"T_7b036066_39a8_11eb_a7be_acde48001122row3_col0\" class=\"data row3 col0\" >Opportunities for professional development</td>\n",
       "                        <td id=\"T_7b036066_39a8_11eb_a7be_acde48001122row3_col1\" class=\"data row3 col1\" >11336</td>\n",
       "                        <td id=\"T_7b036066_39a8_11eb_a7be_acde48001122row3_col2\" class=\"data row3 col2\" >13.706547</td>\n",
       "                        <td id=\"T_7b036066_39a8_11eb_a7be_acde48001122row3_col3\" class=\"data row3 col3\" >2000</td>\n",
       "                        <td id=\"T_7b036066_39a8_11eb_a7be_acde48001122row3_col4\" class=\"data row3 col4\" >13.155298</td>\n",
       "                        <td id=\"T_7b036066_39a8_11eb_a7be_acde48001122row3_col5\" class=\"data row3 col5\" >0.551249</td>\n",
       "            </tr>\n",
       "            <tr>\n",
       "                        <th id=\"T_7b036066_39a8_11eb_a7be_acde48001122level0_row4\" class=\"row_heading level0 row4\" >4</th>\n",
       "                        <td id=\"T_7b036066_39a8_11eb_a7be_acde48001122row4_col0\" class=\"data row4 col0\" >Remote work options</td>\n",
       "                        <td id=\"T_7b036066_39a8_11eb_a7be_acde48001122row4_col1\" class=\"data row4 col1\" >9651</td>\n",
       "                        <td id=\"T_7b036066_39a8_11eb_a7be_acde48001122row4_col2\" class=\"data row4 col2\" >11.669186</td>\n",
       "                        <td id=\"T_7b036066_39a8_11eb_a7be_acde48001122row4_col3\" class=\"data row4 col3\" >2068</td>\n",
       "                        <td id=\"T_7b036066_39a8_11eb_a7be_acde48001122row4_col4\" class=\"data row4 col4\" >13.602578</td>\n",
       "                        <td id=\"T_7b036066_39a8_11eb_a7be_acde48001122row4_col5\" class=\"data row4 col5\" >-1.933393</td>\n",
       "            </tr>\n",
       "            <tr>\n",
       "                        <th id=\"T_7b036066_39a8_11eb_a7be_acde48001122level0_row5\" class=\"row_heading level0 row5\" >5</th>\n",
       "                        <td id=\"T_7b036066_39a8_11eb_a7be_acde48001122row5_col0\" class=\"data row5 col0\" >How widely used or impactful my work output would be</td>\n",
       "                        <td id=\"T_7b036066_39a8_11eb_a7be_acde48001122row5_col1\" class=\"data row5 col1\" >5888</td>\n",
       "                        <td id=\"T_7b036066_39a8_11eb_a7be_acde48001122row5_col2\" class=\"data row5 col2\" >7.119279</td>\n",
       "                        <td id=\"T_7b036066_39a8_11eb_a7be_acde48001122row5_col3\" class=\"data row5 col3\" >999</td>\n",
       "                        <td id=\"T_7b036066_39a8_11eb_a7be_acde48001122row5_col4\" class=\"data row5 col4\" >6.571071</td>\n",
       "                        <td id=\"T_7b036066_39a8_11eb_a7be_acde48001122row5_col5\" class=\"data row5 col5\" >0.548208</td>\n",
       "            </tr>\n",
       "            <tr>\n",
       "                        <th id=\"T_7b036066_39a8_11eb_a7be_acde48001122level0_row6\" class=\"row_heading level0 row6\" >6</th>\n",
       "                        <td id=\"T_7b036066_39a8_11eb_a7be_acde48001122row6_col0\" class=\"data row6 col0\" >Industry that I’d be working in</td>\n",
       "                        <td id=\"T_7b036066_39a8_11eb_a7be_acde48001122row6_col1\" class=\"data row6 col1\" >4020</td>\n",
       "                        <td id=\"T_7b036066_39a8_11eb_a7be_acde48001122row6_col2\" class=\"data row6 col2\" >4.860649</td>\n",
       "                        <td id=\"T_7b036066_39a8_11eb_a7be_acde48001122row6_col3\" class=\"data row6 col3\" >787</td>\n",
       "                        <td id=\"T_7b036066_39a8_11eb_a7be_acde48001122row6_col4\" class=\"data row6 col4\" >5.176610</td>\n",
       "                        <td id=\"T_7b036066_39a8_11eb_a7be_acde48001122row6_col5\" class=\"data row6 col5\" >-0.315961</td>\n",
       "            </tr>\n",
       "            <tr>\n",
       "                        <th id=\"T_7b036066_39a8_11eb_a7be_acde48001122level0_row7\" class=\"row_heading level0 row7\" >7</th>\n",
       "                        <td id=\"T_7b036066_39a8_11eb_a7be_acde48001122row7_col0\" class=\"data row7 col0\" >Family friendliness</td>\n",
       "                        <td id=\"T_7b036066_39a8_11eb_a7be_acde48001122row7_col1\" class=\"data row7 col1\" >3304</td>\n",
       "                        <td id=\"T_7b036066_39a8_11eb_a7be_acde48001122row7_col2\" class=\"data row7 col2\" >3.994922</td>\n",
       "                        <td id=\"T_7b036066_39a8_11eb_a7be_acde48001122row7_col3\" class=\"data row7 col3\" >666</td>\n",
       "                        <td id=\"T_7b036066_39a8_11eb_a7be_acde48001122row7_col4\" class=\"data row7 col4\" >4.380714</td>\n",
       "                        <td id=\"T_7b036066_39a8_11eb_a7be_acde48001122row7_col5\" class=\"data row7 col5\" >-0.385793</td>\n",
       "            </tr>\n",
       "            <tr>\n",
       "                        <th id=\"T_7b036066_39a8_11eb_a7be_acde48001122level0_row8\" class=\"row_heading level0 row8\" >8</th>\n",
       "                        <td id=\"T_7b036066_39a8_11eb_a7be_acde48001122row8_col0\" class=\"data row8 col0\" >Financial performance or funding status of the company or organization</td>\n",
       "                        <td id=\"T_7b036066_39a8_11eb_a7be_acde48001122row8_col1\" class=\"data row8 col1\" >3174</td>\n",
       "                        <td id=\"T_7b036066_39a8_11eb_a7be_acde48001122row8_col2\" class=\"data row8 col2\" >3.837737</td>\n",
       "                        <td id=\"T_7b036066_39a8_11eb_a7be_acde48001122row8_col3\" class=\"data row8 col3\" >546</td>\n",
       "                        <td id=\"T_7b036066_39a8_11eb_a7be_acde48001122row8_col4\" class=\"data row8 col4\" >3.591396</td>\n",
       "                        <td id=\"T_7b036066_39a8_11eb_a7be_acde48001122row8_col5\" class=\"data row8 col5\" >0.246340</td>\n",
       "            </tr>\n",
       "            <tr>\n",
       "                        <th id=\"T_7b036066_39a8_11eb_a7be_acde48001122level0_row9\" class=\"row_heading level0 row9\" >9</th>\n",
       "                        <td id=\"T_7b036066_39a8_11eb_a7be_acde48001122row9_col0\" class=\"data row9 col0\" >Specific department or team I’d be working on</td>\n",
       "                        <td id=\"T_7b036066_39a8_11eb_a7be_acde48001122row9_col1\" class=\"data row9 col1\" >3160</td>\n",
       "                        <td id=\"T_7b036066_39a8_11eb_a7be_acde48001122row9_col2\" class=\"data row9 col2\" >3.820809</td>\n",
       "                        <td id=\"T_7b036066_39a8_11eb_a7be_acde48001122row9_col3\" class=\"data row9 col3\" >594</td>\n",
       "                        <td id=\"T_7b036066_39a8_11eb_a7be_acde48001122row9_col4\" class=\"data row9 col4\" >3.907124</td>\n",
       "                        <td id=\"T_7b036066_39a8_11eb_a7be_acde48001122row9_col5\" class=\"data row9 col5\" >-0.086315</td>\n",
       "            </tr>\n",
       "            <tr>\n",
       "                        <th id=\"T_7b036066_39a8_11eb_a7be_acde48001122level0_row10\" class=\"row_heading level0 row10\" >10</th>\n",
       "                        <td id=\"T_7b036066_39a8_11eb_a7be_acde48001122row10_col0\" class=\"data row10 col0\" >Diversity of the company or organization</td>\n",
       "                        <td id=\"T_7b036066_39a8_11eb_a7be_acde48001122row10_col1\" class=\"data row10 col1\" >1739</td>\n",
       "                        <td id=\"T_7b036066_39a8_11eb_a7be_acde48001122row10_col2\" class=\"data row10 col2\" >2.102654</td>\n",
       "                        <td id=\"T_7b036066_39a8_11eb_a7be_acde48001122row10_col3\" class=\"data row10 col3\" >473</td>\n",
       "                        <td id=\"T_7b036066_39a8_11eb_a7be_acde48001122row10_col4\" class=\"data row10 col4\" >3.111228</td>\n",
       "                        <td id=\"T_7b036066_39a8_11eb_a7be_acde48001122row10_col5\" class=\"data row10 col5\" >-1.008574</td>\n",
       "            </tr>\n",
       "    </tbody></table>"
      ],
      "text/plain": [
       "<pandas.io.formats.style.Styler at 0x7ff827a3ac70>"
      ]
     },
     "execution_count": 43,
     "metadata": {},
     "output_type": "execute_result"
    }
   ],
   "source": [
    "stem_count = stem_1_count.merge(stem_0_count, left_on='factor', right_on='factor')\n",
    "stem_count.columns = ['factor','stem_1_count', 'stem_1_pct','stem_0_count','stem_0_pct']\n",
    "stem_count['pct_diff'] = stem_count['stem_1_pct'] - stem_count['stem_0_pct']\n",
    "stem_count\n",
    "stem_count.style.bar(subset=['pct_diff'], align='mid', color=['#d65f5f', '#5fba7d'])"
   ]
  },
  {
   "cell_type": "code",
   "execution_count": null,
   "metadata": {},
   "outputs": [],
   "source": []
  },
  {
   "cell_type": "code",
   "execution_count": null,
   "metadata": {},
   "outputs": [],
   "source": []
  },
  {
   "cell_type": "code",
   "execution_count": null,
   "metadata": {},
   "outputs": [],
   "source": []
  },
  {
   "cell_type": "code",
   "execution_count": null,
   "metadata": {},
   "outputs": [],
   "source": []
  },
  {
   "cell_type": "code",
   "execution_count": null,
   "metadata": {},
   "outputs": [],
   "source": []
  },
  {
   "cell_type": "code",
   "execution_count": null,
   "metadata": {},
   "outputs": [],
   "source": []
  },
  {
   "cell_type": "markdown",
   "metadata": {},
   "source": [
    "### Extra practice: linear modeling"
   ]
  },
  {
   "cell_type": "code",
   "execution_count": 49,
   "metadata": {
    "ExecuteTime": {
     "end_time": "2020-12-08T22:56:11.491064Z",
     "start_time": "2020-12-08T22:56:11.408753Z"
    }
   },
   "outputs": [
    {
     "data": {
      "text/plain": [
       "Index(['DatabaseDesireNextYear', 'MiscTechDesireNextYear',\n",
       "       'MiscTechWorkedWith', 'NEWCollabToolsDesireNextYear',\n",
       "       'NEWPurchaseResearch', 'SOPartFreq', 'WebframeDesireNextYear',\n",
       "       'WebframeWorkedWith'],\n",
       "      dtype='object')"
      ]
     },
     "execution_count": 49,
     "metadata": {},
     "output_type": "execute_result"
    }
   ],
   "source": [
    "# How a STEM degree affect compensation? \n",
    "pct_null = comp_2020.isnull().sum()/comp_2020.shape[0]\n",
    "pct_null.index[pct_null > 0.16]\n",
    "# I decide to drop features that have over 15% null values, but I also think sexuality might be a good feature\n",
    "# to investigate; I there fore decide to drop all data features that thave over 16% null\n",
    "# pct_null[pct_null > 0.16].index\n",
    "# comp_2020.dropna(subset = pct_null[pct_null > 0.16].index, how = 'any')"
   ]
  },
  {
   "cell_type": "code",
   "execution_count": 549,
   "metadata": {},
   "outputs": [
    {
     "data": {
      "text/plain": [
       "(34756, 62)"
      ]
     },
     "execution_count": 549,
     "metadata": {},
     "output_type": "execute_result"
    }
   ],
   "source": [
    "comp_2020.shape"
   ]
  },
  {
   "cell_type": "code",
   "execution_count": 550,
   "metadata": {},
   "outputs": [],
   "source": [
    "\n",
    "# less than 1 year ≈ 1\n",
    "# more than 50 years ≈ 51\n",
    "\n",
    "\n",
    "comp_2020['YearsCodePro'] = comp_2020['YearsCodePro'].replace({'Less than 1 year':0, 'More than 50 years':51}).astype('float')\n",
    "comp_2020['YearsCode'] = comp_2020['YearsCode'].replace({'Less than 1 year':0, 'More than 50 years':51}).astype('float')\n",
    "comp_2020['Age1stCode'] = comp_2020['Age1stCode'].replace({'Younger than 5 years' :4, 'Older than 85':86}).astype('float')\n"
   ]
  },
  {
   "cell_type": "code",
   "execution_count": 72,
   "metadata": {
    "ExecuteTime": {
     "end_time": "2020-12-08T23:16:58.962530Z",
     "start_time": "2020-12-08T23:16:25.676309Z"
    }
   },
   "outputs": [],
   "source": [
    "def clean_data(df):\n",
    "    '''\n",
    "    INPUT\n",
    "    df - pandas dataframe \n",
    "    \n",
    "    OUTPUT\n",
    "    X - A matrix holding all of the variables you want to consider when predicting the response\n",
    "    y - the corresponding response vector\n",
    "    \n",
    "    This function cleans df using the following steps to produce X and y:\n",
    "    1. Drop all the rows with no salaries\n",
    "    2. Create X as all the columns that are not the Salary column\n",
    "    3. Create y as the Salary column\n",
    "    4. Drop the Salary, Respondent, and the ExpectedSalary columns from X\n",
    "    5. For each numeric variable in X, fill the column with the mean value of the column.\n",
    "    6. Create dummy columns for all the categorical variables in X, drop the original columns\n",
    "    '''\n",
    "\n",
    "    # drop rows without converted comp\n",
    "    df = df.dropna(subset = ['ConvertedComp'], axis = 0)\n",
    "    y = df['ConvertedComp'][:5001]\n",
    "    \n",
    "    # drop columns with 16% missing values \n",
    "    nulls = df.isnull().sum()/df.shape[0]\n",
    "    #df = df.drop(nulls.index[nulls > 0.16], axis=1)\n",
    "\n",
    "    df = df.drop(['Respondent','CompTotal','ConvertedComp',\n",
    "    'DatabaseDesireNextYear', 'MiscTechDesireNextYear','MiscTechWorkedWith', \n",
    "    'NEWCollabToolsDesireNextYear','NEWPurchaseResearch', 'SOPartFreq', 'WebframeWorkedWith',\n",
    "    'NEWJobHunt','NEWJobHuntResearch','LanguageDesireNextYear','LanguageWorkedWith',\n",
    "    'NEWCollabToolsWorkedWith','NEWStuck','NEWSOSites','UndergradMajor','NEWOffTopic','NEWPurpleLink',\n",
    "    'PlatformDesireNextYear','PlatformWorkedWith','MiscTechDesireNextYear', 'MiscTechWorkedWith','NEWDevOps',\n",
    "    #'SurveyEase','SurveyLength','WelcomeChange',\n",
    "    #'WebframeWorkedWith','WebframeDesireNextYear',\n",
    "    #'DevType','JobFactors','DatabaseWorkedWith','CurrencyDesc','CurrencySymbol','Ethnicity'\n",
    "                 ],axis = 1)\n",
    "\n",
    "    # Fill numeric column null with the mean\n",
    "    num_vars = df.select_dtypes(include=['float', 'int']).columns\n",
    "    for col in num_vars:\n",
    "        if col == 'STEM':\n",
    "            df[col].fillna((df[col].mode()), inplace=True)\n",
    "        else:\n",
    "            df[col].fillna((df[col].mean()), inplace=True)\n",
    "        \n",
    "    # Dummy the categorical variables\n",
    "    cat_vars = df.select_dtypes(include=['object']).copy().columns\n",
    "    for var in  cat_vars:\n",
    "        # for each cat add dummy var, drop original column\n",
    "        df = pd.concat([df.drop(var, axis=1), pd.get_dummies(df[var], prefix=var, prefix_sep='_', drop_first=True)], axis=1)\n",
    "    \n",
    "    X = df.iloc[:5001,:]\n",
    "    return X, y\n",
    "    \n",
    "#Use the function to create X and y\n",
    "X, y = clean_data(comp_2020)  "
   ]
  },
  {
   "cell_type": "code",
   "execution_count": 689,
   "metadata": {},
   "outputs": [
    {
     "data": {
      "text/plain": [
       "Index([], dtype='object')"
      ]
     },
     "execution_count": 689,
     "metadata": {},
     "output_type": "execute_result"
    }
   ],
   "source": [
    "# check if there are any null values in X\n",
    "X.columns[X.isnull().mean() != 0]"
   ]
  },
  {
   "cell_type": "code",
   "execution_count": 80,
   "metadata": {
    "ExecuteTime": {
     "end_time": "2020-12-08T23:21:08.513315Z",
     "start_time": "2020-12-08T23:21:08.510364Z"
    }
   },
   "outputs": [
    {
     "data": {
      "text/plain": [
       "(5001, 12179)"
      ]
     },
     "execution_count": 80,
     "metadata": {},
     "output_type": "execute_result"
    }
   ],
   "source": [
    "# now we build the model \n",
    "X.shape"
   ]
  },
  {
   "cell_type": "code",
   "execution_count": 81,
   "metadata": {
    "ExecuteTime": {
     "end_time": "2020-12-08T23:21:22.657900Z",
     "start_time": "2020-12-08T23:21:11.599636Z"
    }
   },
   "outputs": [
    {
     "name": "stdout",
     "output_type": "stream",
     "text": [
      "Test r2:-1.5406806129860166e+28, Train r2 -21.28478841243745\n"
     ]
    }
   ],
   "source": [
    "# initial model \n",
    "model = LinearRegression(normalize=True)\n",
    "\n",
    "# # train, test split \n",
    "X_train, X_test, y_train, y_test = train_test_split(X, y, test_size=.30, random_state=42)\n",
    "\n",
    "# fit the model\n",
    "model.fit(X_train,y_train)\n",
    "\n",
    "# # predict\n",
    "y_predict_test = model.predict(X_test)\n",
    "y_predict_train = model.predict(X_train)\n",
    "\n",
    "# # score \n",
    "r2_score_test = r2_score(y_test,y_predict_test)\n",
    "r2_score_train = r2_score(y_train,y_predict_train)\n",
    "print(f'Test r2:{r2_score_test}, Train r2 {r2_score_train}')"
   ]
  },
  {
   "cell_type": "code",
   "execution_count": 692,
   "metadata": {},
   "outputs": [
    {
     "data": {
      "text/html": [
       "<div>\n",
       "<style scoped>\n",
       "    .dataframe tbody tr th:only-of-type {\n",
       "        vertical-align: middle;\n",
       "    }\n",
       "\n",
       "    .dataframe tbody tr th {\n",
       "        vertical-align: top;\n",
       "    }\n",
       "\n",
       "    .dataframe thead th {\n",
       "        text-align: right;\n",
       "    }\n",
       "</style>\n",
       "<table border=\"1\" class=\"dataframe\">\n",
       "  <thead>\n",
       "    <tr style=\"text-align: right;\">\n",
       "      <th></th>\n",
       "      <th>Age</th>\n",
       "      <th>Age1stCode</th>\n",
       "      <th>ConvertedComp</th>\n",
       "      <th>WorkWeekHrs</th>\n",
       "      <th>YearsCode</th>\n",
       "      <th>YearsCodePro</th>\n",
       "      <th>STEM</th>\n",
       "      <th>MainBranch_I am not primarily a developer, but I write code sometimes as part of my work</th>\n",
       "      <th>Hobbyist_Yes</th>\n",
       "      <th>CompFreq_Weekly</th>\n",
       "      <th>...</th>\n",
       "      <th>SOComm_No, not really</th>\n",
       "      <th>SOComm_Not sure</th>\n",
       "      <th>SOComm_Yes, definitely</th>\n",
       "      <th>SOComm_Yes, somewhat</th>\n",
       "      <th>SOVisitFreq_A few times per week</th>\n",
       "      <th>SOVisitFreq_Daily or almost daily</th>\n",
       "      <th>SOVisitFreq_I have never visited Stack Overflow (before today)</th>\n",
       "      <th>SOVisitFreq_Less than once per month or monthly</th>\n",
       "      <th>SOVisitFreq_Multiple times per day</th>\n",
       "      <th>Trans_Yes</th>\n",
       "    </tr>\n",
       "  </thead>\n",
       "  <tbody>\n",
       "    <tr>\n",
       "      <th>7</th>\n",
       "      <td>36.0</td>\n",
       "      <td>12.0</td>\n",
       "      <td>116000.0</td>\n",
       "      <td>39.0</td>\n",
       "      <td>17.0</td>\n",
       "      <td>13.0</td>\n",
       "      <td>1</td>\n",
       "      <td>0</td>\n",
       "      <td>1</td>\n",
       "      <td>0</td>\n",
       "      <td>...</td>\n",
       "      <td>1</td>\n",
       "      <td>0</td>\n",
       "      <td>0</td>\n",
       "      <td>0</td>\n",
       "      <td>0</td>\n",
       "      <td>0</td>\n",
       "      <td>0</td>\n",
       "      <td>0</td>\n",
       "      <td>1</td>\n",
       "      <td>0</td>\n",
       "    </tr>\n",
       "    <tr>\n",
       "      <th>9</th>\n",
       "      <td>22.0</td>\n",
       "      <td>14.0</td>\n",
       "      <td>32315.0</td>\n",
       "      <td>36.0</td>\n",
       "      <td>8.0</td>\n",
       "      <td>4.0</td>\n",
       "      <td>1</td>\n",
       "      <td>0</td>\n",
       "      <td>1</td>\n",
       "      <td>0</td>\n",
       "      <td>...</td>\n",
       "      <td>0</td>\n",
       "      <td>0</td>\n",
       "      <td>1</td>\n",
       "      <td>0</td>\n",
       "      <td>0</td>\n",
       "      <td>0</td>\n",
       "      <td>0</td>\n",
       "      <td>0</td>\n",
       "      <td>1</td>\n",
       "      <td>0</td>\n",
       "    </tr>\n",
       "    <tr>\n",
       "      <th>10</th>\n",
       "      <td>23.0</td>\n",
       "      <td>13.0</td>\n",
       "      <td>40070.0</td>\n",
       "      <td>40.0</td>\n",
       "      <td>10.0</td>\n",
       "      <td>2.0</td>\n",
       "      <td>1</td>\n",
       "      <td>0</td>\n",
       "      <td>1</td>\n",
       "      <td>0</td>\n",
       "      <td>...</td>\n",
       "      <td>0</td>\n",
       "      <td>0</td>\n",
       "      <td>0</td>\n",
       "      <td>1</td>\n",
       "      <td>0</td>\n",
       "      <td>0</td>\n",
       "      <td>0</td>\n",
       "      <td>0</td>\n",
       "      <td>1</td>\n",
       "      <td>0</td>\n",
       "    </tr>\n",
       "    <tr>\n",
       "      <th>11</th>\n",
       "      <td>49.0</td>\n",
       "      <td>42.0</td>\n",
       "      <td>14268.0</td>\n",
       "      <td>40.0</td>\n",
       "      <td>7.0</td>\n",
       "      <td>7.0</td>\n",
       "      <td>1</td>\n",
       "      <td>0</td>\n",
       "      <td>0</td>\n",
       "      <td>0</td>\n",
       "      <td>...</td>\n",
       "      <td>0</td>\n",
       "      <td>0</td>\n",
       "      <td>0</td>\n",
       "      <td>1</td>\n",
       "      <td>0</td>\n",
       "      <td>0</td>\n",
       "      <td>0</td>\n",
       "      <td>0</td>\n",
       "      <td>1</td>\n",
       "      <td>0</td>\n",
       "    </tr>\n",
       "    <tr>\n",
       "      <th>12</th>\n",
       "      <td>53.0</td>\n",
       "      <td>14.0</td>\n",
       "      <td>38916.0</td>\n",
       "      <td>36.0</td>\n",
       "      <td>35.0</td>\n",
       "      <td>20.0</td>\n",
       "      <td>0</td>\n",
       "      <td>1</td>\n",
       "      <td>1</td>\n",
       "      <td>0</td>\n",
       "      <td>...</td>\n",
       "      <td>0</td>\n",
       "      <td>0</td>\n",
       "      <td>1</td>\n",
       "      <td>0</td>\n",
       "      <td>0</td>\n",
       "      <td>0</td>\n",
       "      <td>0</td>\n",
       "      <td>0</td>\n",
       "      <td>1</td>\n",
       "      <td>0</td>\n",
       "    </tr>\n",
       "    <tr>\n",
       "      <th>13</th>\n",
       "      <td>27.0</td>\n",
       "      <td>13.0</td>\n",
       "      <td>66000.0</td>\n",
       "      <td>40.0</td>\n",
       "      <td>5.0</td>\n",
       "      <td>1.0</td>\n",
       "      <td>1</td>\n",
       "      <td>0</td>\n",
       "      <td>1</td>\n",
       "      <td>0</td>\n",
       "      <td>...</td>\n",
       "      <td>0</td>\n",
       "      <td>0</td>\n",
       "      <td>1</td>\n",
       "      <td>0</td>\n",
       "      <td>0</td>\n",
       "      <td>0</td>\n",
       "      <td>0</td>\n",
       "      <td>0</td>\n",
       "      <td>1</td>\n",
       "      <td>0</td>\n",
       "    </tr>\n",
       "    <tr>\n",
       "      <th>15</th>\n",
       "      <td>45.0</td>\n",
       "      <td>8.0</td>\n",
       "      <td>108576.0</td>\n",
       "      <td>50.0</td>\n",
       "      <td>37.0</td>\n",
       "      <td>23.0</td>\n",
       "      <td>1</td>\n",
       "      <td>0</td>\n",
       "      <td>1</td>\n",
       "      <td>0</td>\n",
       "      <td>...</td>\n",
       "      <td>0</td>\n",
       "      <td>0</td>\n",
       "      <td>0</td>\n",
       "      <td>1</td>\n",
       "      <td>0</td>\n",
       "      <td>0</td>\n",
       "      <td>0</td>\n",
       "      <td>0</td>\n",
       "      <td>1</td>\n",
       "      <td>0</td>\n",
       "    </tr>\n",
       "    <tr>\n",
       "      <th>16</th>\n",
       "      <td>25.0</td>\n",
       "      <td>14.0</td>\n",
       "      <td>79000.0</td>\n",
       "      <td>40.0</td>\n",
       "      <td>7.0</td>\n",
       "      <td>3.0</td>\n",
       "      <td>1</td>\n",
       "      <td>0</td>\n",
       "      <td>1</td>\n",
       "      <td>0</td>\n",
       "      <td>...</td>\n",
       "      <td>0</td>\n",
       "      <td>0</td>\n",
       "      <td>0</td>\n",
       "      <td>0</td>\n",
       "      <td>0</td>\n",
       "      <td>1</td>\n",
       "      <td>0</td>\n",
       "      <td>0</td>\n",
       "      <td>0</td>\n",
       "      <td>0</td>\n",
       "    </tr>\n",
       "    <tr>\n",
       "      <th>17</th>\n",
       "      <td>32.0</td>\n",
       "      <td>12.0</td>\n",
       "      <td>1260000.0</td>\n",
       "      <td>45.0</td>\n",
       "      <td>19.0</td>\n",
       "      <td>12.0</td>\n",
       "      <td>1</td>\n",
       "      <td>0</td>\n",
       "      <td>1</td>\n",
       "      <td>0</td>\n",
       "      <td>...</td>\n",
       "      <td>0</td>\n",
       "      <td>0</td>\n",
       "      <td>0</td>\n",
       "      <td>1</td>\n",
       "      <td>0</td>\n",
       "      <td>1</td>\n",
       "      <td>0</td>\n",
       "      <td>0</td>\n",
       "      <td>0</td>\n",
       "      <td>0</td>\n",
       "    </tr>\n",
       "    <tr>\n",
       "      <th>18</th>\n",
       "      <td>24.0</td>\n",
       "      <td>15.0</td>\n",
       "      <td>83400.0</td>\n",
       "      <td>35.0</td>\n",
       "      <td>9.0</td>\n",
       "      <td>3.0</td>\n",
       "      <td>1</td>\n",
       "      <td>0</td>\n",
       "      <td>0</td>\n",
       "      <td>0</td>\n",
       "      <td>...</td>\n",
       "      <td>0</td>\n",
       "      <td>0</td>\n",
       "      <td>0</td>\n",
       "      <td>0</td>\n",
       "      <td>1</td>\n",
       "      <td>0</td>\n",
       "      <td>0</td>\n",
       "      <td>0</td>\n",
       "      <td>0</td>\n",
       "      <td>0</td>\n",
       "    </tr>\n",
       "  </tbody>\n",
       "</table>\n",
       "<p>10 rows × 248 columns</p>\n",
       "</div>"
      ],
      "text/plain": [
       "     Age  Age1stCode  ConvertedComp  WorkWeekHrs  YearsCode  YearsCodePro  \\\n",
       "7   36.0        12.0       116000.0         39.0       17.0          13.0   \n",
       "9   22.0        14.0        32315.0         36.0        8.0           4.0   \n",
       "10  23.0        13.0        40070.0         40.0       10.0           2.0   \n",
       "11  49.0        42.0        14268.0         40.0        7.0           7.0   \n",
       "12  53.0        14.0        38916.0         36.0       35.0          20.0   \n",
       "13  27.0        13.0        66000.0         40.0        5.0           1.0   \n",
       "15  45.0         8.0       108576.0         50.0       37.0          23.0   \n",
       "16  25.0        14.0        79000.0         40.0        7.0           3.0   \n",
       "17  32.0        12.0      1260000.0         45.0       19.0          12.0   \n",
       "18  24.0        15.0        83400.0         35.0        9.0           3.0   \n",
       "\n",
       "    STEM  \\\n",
       "7      1   \n",
       "9      1   \n",
       "10     1   \n",
       "11     1   \n",
       "12     0   \n",
       "13     1   \n",
       "15     1   \n",
       "16     1   \n",
       "17     1   \n",
       "18     1   \n",
       "\n",
       "    MainBranch_I am not primarily a developer, but I write code sometimes as part of my work  \\\n",
       "7                                                   0                                          \n",
       "9                                                   0                                          \n",
       "10                                                  0                                          \n",
       "11                                                  0                                          \n",
       "12                                                  1                                          \n",
       "13                                                  0                                          \n",
       "15                                                  0                                          \n",
       "16                                                  0                                          \n",
       "17                                                  0                                          \n",
       "18                                                  0                                          \n",
       "\n",
       "    Hobbyist_Yes  CompFreq_Weekly  ...  SOComm_No, not really  \\\n",
       "7              1                0  ...                      1   \n",
       "9              1                0  ...                      0   \n",
       "10             1                0  ...                      0   \n",
       "11             0                0  ...                      0   \n",
       "12             1                0  ...                      0   \n",
       "13             1                0  ...                      0   \n",
       "15             1                0  ...                      0   \n",
       "16             1                0  ...                      0   \n",
       "17             1                0  ...                      0   \n",
       "18             0                0  ...                      0   \n",
       "\n",
       "    SOComm_Not sure  SOComm_Yes, definitely  SOComm_Yes, somewhat  \\\n",
       "7                 0                       0                     0   \n",
       "9                 0                       1                     0   \n",
       "10                0                       0                     1   \n",
       "11                0                       0                     1   \n",
       "12                0                       1                     0   \n",
       "13                0                       1                     0   \n",
       "15                0                       0                     1   \n",
       "16                0                       0                     0   \n",
       "17                0                       0                     1   \n",
       "18                0                       0                     0   \n",
       "\n",
       "    SOVisitFreq_A few times per week  SOVisitFreq_Daily or almost daily  \\\n",
       "7                                  0                                  0   \n",
       "9                                  0                                  0   \n",
       "10                                 0                                  0   \n",
       "11                                 0                                  0   \n",
       "12                                 0                                  0   \n",
       "13                                 0                                  0   \n",
       "15                                 0                                  0   \n",
       "16                                 0                                  1   \n",
       "17                                 0                                  1   \n",
       "18                                 1                                  0   \n",
       "\n",
       "    SOVisitFreq_I have never visited Stack Overflow (before today)  \\\n",
       "7                                                   0                \n",
       "9                                                   0                \n",
       "10                                                  0                \n",
       "11                                                  0                \n",
       "12                                                  0                \n",
       "13                                                  0                \n",
       "15                                                  0                \n",
       "16                                                  0                \n",
       "17                                                  0                \n",
       "18                                                  0                \n",
       "\n",
       "    SOVisitFreq_Less than once per month or monthly  \\\n",
       "7                                                 0   \n",
       "9                                                 0   \n",
       "10                                                0   \n",
       "11                                                0   \n",
       "12                                                0   \n",
       "13                                                0   \n",
       "15                                                0   \n",
       "16                                                0   \n",
       "17                                                0   \n",
       "18                                                0   \n",
       "\n",
       "    SOVisitFreq_Multiple times per day  Trans_Yes  \n",
       "7                                    1          0  \n",
       "9                                    1          0  \n",
       "10                                   1          0  \n",
       "11                                   1          0  \n",
       "12                                   1          0  \n",
       "13                                   1          0  \n",
       "15                                   1          0  \n",
       "16                                   0          0  \n",
       "17                                   0          0  \n",
       "18                                   0          0  \n",
       "\n",
       "[10 rows x 248 columns]"
      ]
     },
     "execution_count": 692,
     "metadata": {},
     "output_type": "execute_result"
    }
   ],
   "source": [
    "X.head(10)"
   ]
  },
  {
   "cell_type": "code",
   "execution_count": 693,
   "metadata": {},
   "outputs": [],
   "source": [
    "coefs = pd.DataFrame()\n",
    "coefs['est_int'] = X_train.columns\n",
    "coefs['coefs'] = model.coef_\n",
    "coefs['abs_coefs'] = np.abs(model.coef_)\n",
    "coefs = coefs.sort_values('abs_coefs', ascending=False)"
   ]
  },
  {
   "cell_type": "code",
   "execution_count": 694,
   "metadata": {},
   "outputs": [
    {
     "data": {
      "text/html": [
       "<div>\n",
       "<style scoped>\n",
       "    .dataframe tbody tr th:only-of-type {\n",
       "        vertical-align: middle;\n",
       "    }\n",
       "\n",
       "    .dataframe tbody tr th {\n",
       "        vertical-align: top;\n",
       "    }\n",
       "\n",
       "    .dataframe thead th {\n",
       "        text-align: right;\n",
       "    }\n",
       "</style>\n",
       "<table border=\"1\" class=\"dataframe\">\n",
       "  <thead>\n",
       "    <tr style=\"text-align: right;\">\n",
       "      <th></th>\n",
       "      <th>est_int</th>\n",
       "      <th>coefs</th>\n",
       "      <th>abs_coefs</th>\n",
       "    </tr>\n",
       "  </thead>\n",
       "  <tbody>\n",
       "    <tr>\n",
       "      <th>107</th>\n",
       "      <td>Country_Namibia</td>\n",
       "      <td>9.145248e+04</td>\n",
       "      <td>9.145248e+04</td>\n",
       "    </tr>\n",
       "    <tr>\n",
       "      <th>112</th>\n",
       "      <td>Country_Niger</td>\n",
       "      <td>7.201342e+04</td>\n",
       "      <td>7.201342e+04</td>\n",
       "    </tr>\n",
       "    <tr>\n",
       "      <th>91</th>\n",
       "      <td>Country_Lesotho</td>\n",
       "      <td>1.732173e+01</td>\n",
       "      <td>1.732173e+01</td>\n",
       "    </tr>\n",
       "    <tr>\n",
       "      <th>2</th>\n",
       "      <td>ConvertedComp</td>\n",
       "      <td>1.000000e+00</td>\n",
       "      <td>1.000000e+00</td>\n",
       "    </tr>\n",
       "    <tr>\n",
       "      <th>35</th>\n",
       "      <td>Country_Burkina Faso</td>\n",
       "      <td>2.211937e-08</td>\n",
       "      <td>2.211937e-08</td>\n",
       "    </tr>\n",
       "    <tr>\n",
       "      <th>27</th>\n",
       "      <td>Country_Benin</td>\n",
       "      <td>1.296563e-08</td>\n",
       "      <td>1.296563e-08</td>\n",
       "    </tr>\n",
       "    <tr>\n",
       "      <th>26</th>\n",
       "      <td>Country_Belize</td>\n",
       "      <td>9.473492e-09</td>\n",
       "      <td>9.473492e-09</td>\n",
       "    </tr>\n",
       "    <tr>\n",
       "      <th>20</th>\n",
       "      <td>Country_Bahamas</td>\n",
       "      <td>-6.997323e-09</td>\n",
       "      <td>6.997323e-09</td>\n",
       "    </tr>\n",
       "    <tr>\n",
       "      <th>166</th>\n",
       "      <td>Country_Yemen</td>\n",
       "      <td>5.995512e-09</td>\n",
       "      <td>5.995512e-09</td>\n",
       "    </tr>\n",
       "    <tr>\n",
       "      <th>66</th>\n",
       "      <td>Country_Guyana</td>\n",
       "      <td>-5.500737e-09</td>\n",
       "      <td>5.500737e-09</td>\n",
       "    </tr>\n",
       "    <tr>\n",
       "      <th>95</th>\n",
       "      <td>Country_Malawi</td>\n",
       "      <td>-4.191038e-09</td>\n",
       "      <td>4.191038e-09</td>\n",
       "    </tr>\n",
       "    <tr>\n",
       "      <th>183</th>\n",
       "      <td>Gender_Woman;Man;Non-binary, genderqueer, or g...</td>\n",
       "      <td>-3.905090e-09</td>\n",
       "      <td>3.905090e-09</td>\n",
       "    </tr>\n",
       "    <tr>\n",
       "      <th>33</th>\n",
       "      <td>Country_Brunei Darussalam</td>\n",
       "      <td>-3.725367e-09</td>\n",
       "      <td>3.725367e-09</td>\n",
       "    </tr>\n",
       "    <tr>\n",
       "      <th>87</th>\n",
       "      <td>Country_Kyrgyzstan</td>\n",
       "      <td>3.432561e-09</td>\n",
       "      <td>3.432561e-09</td>\n",
       "    </tr>\n",
       "    <tr>\n",
       "      <th>13</th>\n",
       "      <td>Country_Andorra</td>\n",
       "      <td>3.143278e-09</td>\n",
       "      <td>3.143278e-09</td>\n",
       "    </tr>\n",
       "    <tr>\n",
       "      <th>21</th>\n",
       "      <td>Country_Bahrain</td>\n",
       "      <td>-3.091962e-09</td>\n",
       "      <td>3.091962e-09</td>\n",
       "    </tr>\n",
       "    <tr>\n",
       "      <th>167</th>\n",
       "      <td>Country_Zambia</td>\n",
       "      <td>3.004733e-09</td>\n",
       "      <td>3.004733e-09</td>\n",
       "    </tr>\n",
       "    <tr>\n",
       "      <th>29</th>\n",
       "      <td>Country_Bolivia</td>\n",
       "      <td>-2.958650e-09</td>\n",
       "      <td>2.958650e-09</td>\n",
       "    </tr>\n",
       "    <tr>\n",
       "      <th>36</th>\n",
       "      <td>Country_Cambodia</td>\n",
       "      <td>-2.804401e-09</td>\n",
       "      <td>2.804401e-09</td>\n",
       "    </tr>\n",
       "    <tr>\n",
       "      <th>14</th>\n",
       "      <td>Country_Angola</td>\n",
       "      <td>2.794025e-09</td>\n",
       "      <td>2.794025e-09</td>\n",
       "    </tr>\n",
       "  </tbody>\n",
       "</table>\n",
       "</div>"
      ],
      "text/plain": [
       "                                               est_int         coefs  \\\n",
       "107                                    Country_Namibia  9.145248e+04   \n",
       "112                                      Country_Niger  7.201342e+04   \n",
       "91                                     Country_Lesotho  1.732173e+01   \n",
       "2                                        ConvertedComp  1.000000e+00   \n",
       "35                                Country_Burkina Faso  2.211937e-08   \n",
       "27                                       Country_Benin  1.296563e-08   \n",
       "26                                      Country_Belize  9.473492e-09   \n",
       "20                                     Country_Bahamas -6.997323e-09   \n",
       "166                                      Country_Yemen  5.995512e-09   \n",
       "66                                      Country_Guyana -5.500737e-09   \n",
       "95                                      Country_Malawi -4.191038e-09   \n",
       "183  Gender_Woman;Man;Non-binary, genderqueer, or g... -3.905090e-09   \n",
       "33                           Country_Brunei Darussalam -3.725367e-09   \n",
       "87                                  Country_Kyrgyzstan  3.432561e-09   \n",
       "13                                     Country_Andorra  3.143278e-09   \n",
       "21                                     Country_Bahrain -3.091962e-09   \n",
       "167                                     Country_Zambia  3.004733e-09   \n",
       "29                                     Country_Bolivia -2.958650e-09   \n",
       "36                                    Country_Cambodia -2.804401e-09   \n",
       "14                                      Country_Angola  2.794025e-09   \n",
       "\n",
       "        abs_coefs  \n",
       "107  9.145248e+04  \n",
       "112  7.201342e+04  \n",
       "91   1.732173e+01  \n",
       "2    1.000000e+00  \n",
       "35   2.211937e-08  \n",
       "27   1.296563e-08  \n",
       "26   9.473492e-09  \n",
       "20   6.997323e-09  \n",
       "166  5.995512e-09  \n",
       "66   5.500737e-09  \n",
       "95   4.191038e-09  \n",
       "183  3.905090e-09  \n",
       "33   3.725367e-09  \n",
       "87   3.432561e-09  \n",
       "13   3.143278e-09  \n",
       "21   3.091962e-09  \n",
       "167  3.004733e-09  \n",
       "29   2.958650e-09  \n",
       "36   2.804401e-09  \n",
       "14   2.794025e-09  "
      ]
     },
     "execution_count": 694,
     "metadata": {},
     "output_type": "execute_result"
    }
   ],
   "source": [
    "coefs.head(20)"
   ]
  },
  {
   "cell_type": "code",
   "execution_count": 695,
   "metadata": {},
   "outputs": [
    {
     "data": {
      "text/html": [
       "<div>\n",
       "<style scoped>\n",
       "    .dataframe tbody tr th:only-of-type {\n",
       "        vertical-align: middle;\n",
       "    }\n",
       "\n",
       "    .dataframe tbody tr th {\n",
       "        vertical-align: top;\n",
       "    }\n",
       "\n",
       "    .dataframe thead th {\n",
       "        text-align: right;\n",
       "    }\n",
       "</style>\n",
       "<table border=\"1\" class=\"dataframe\">\n",
       "  <thead>\n",
       "    <tr style=\"text-align: right;\">\n",
       "      <th></th>\n",
       "      <th>est_int</th>\n",
       "      <th>coefs</th>\n",
       "      <th>abs_coefs</th>\n",
       "    </tr>\n",
       "  </thead>\n",
       "  <tbody>\n",
       "    <tr>\n",
       "      <th>6</th>\n",
       "      <td>STEM</td>\n",
       "      <td>-6.153926e-11</td>\n",
       "      <td>6.153926e-11</td>\n",
       "    </tr>\n",
       "  </tbody>\n",
       "</table>\n",
       "</div>"
      ],
      "text/plain": [
       "  est_int         coefs     abs_coefs\n",
       "6    STEM -6.153926e-11  6.153926e-11"
      ]
     },
     "execution_count": 695,
     "metadata": {},
     "output_type": "execute_result"
    }
   ],
   "source": [
    "coefs.loc[coefs['est_int'] == 'STEM',:]"
   ]
  },
  {
   "cell_type": "code",
   "execution_count": 701,
   "metadata": {},
   "outputs": [
    {
     "data": {
      "text/plain": [
       "Very satisfied                        11312\n",
       "Slightly satisfied                    10785\n",
       "Slightly dissatisfied                  5746\n",
       "Neither satisfied nor dissatisfied     4066\n",
       "Very dissatisfied                      2792\n",
       "Name: JobSat, dtype: int64"
      ]
     },
     "execution_count": 701,
     "metadata": {},
     "output_type": "execute_result"
    }
   ],
   "source": [
    "# Job factor and compensayion analysis\n",
    "comp_2020['JobSat'].value_counts()\n",
    "\n"
   ]
  },
  {
   "cell_type": "code",
   "execution_count": null,
   "metadata": {},
   "outputs": [],
   "source": []
  }
 ],
 "metadata": {
  "kernelspec": {
   "display_name": "Python 3",
   "language": "python",
   "name": "python3"
  },
  "language_info": {
   "codemirror_mode": {
    "name": "ipython",
    "version": 3
   },
   "file_extension": ".py",
   "mimetype": "text/x-python",
   "name": "python",
   "nbconvert_exporter": "python",
   "pygments_lexer": "ipython3",
   "version": "3.8.3"
  },
  "varInspector": {
   "cols": {
    "lenName": 16,
    "lenType": 16,
    "lenVar": 40
   },
   "kernels_config": {
    "python": {
     "delete_cmd_postfix": "",
     "delete_cmd_prefix": "del ",
     "library": "var_list.py",
     "varRefreshCmd": "print(var_dic_list())"
    },
    "r": {
     "delete_cmd_postfix": ") ",
     "delete_cmd_prefix": "rm(",
     "library": "var_list.r",
     "varRefreshCmd": "cat(var_dic_list()) "
    }
   },
   "types_to_exclude": [
    "module",
    "function",
    "builtin_function_or_method",
    "instance",
    "_Feature"
   ],
   "window_display": false
  }
 },
 "nbformat": 4,
 "nbformat_minor": 2
}

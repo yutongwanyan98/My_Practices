{
 "metadata": {
  "language_info": {
   "codemirror_mode": {
    "name": "ipython",
    "version": 3
   },
   "file_extension": ".py",
   "mimetype": "text/x-python",
   "name": "python",
   "nbconvert_exporter": "python",
   "pygments_lexer": "ipython3",
   "version": "3.8.3-final"
  },
  "orig_nbformat": 2,
  "kernelspec": {
   "name": "python3",
   "display_name": "Python 3"
  }
 },
 "nbformat": 4,
 "nbformat_minor": 2,
 "cells": [
  {
   "cell_type": "markdown",
   "metadata": {},
   "source": [
    "# Web scraping practice"
   ]
  },
  {
   "cell_type": "code",
   "execution_count": 9,
   "metadata": {},
   "outputs": [],
   "source": [
    "import requests\n",
    "from bs4 import BeautifulSoup\n",
    "\n",
    "import numpy as np\n",
    "import pandas as pd \n",
    "from datetime import datetime as dt"
   ]
  },
  {
   "cell_type": "code",
   "execution_count": 2,
   "metadata": {},
   "outputs": [
    {
     "output_type": "stream",
     "name": "stdout",
     "text": [
      "253266\n"
     ]
    }
   ],
   "source": [
    "\n",
    "url = 'https://www.youtube.com/watch?v=FGgXL1m2tCU'\n",
    "\n",
    "soup = BeautifulSoup(requests.get(url).text, 'html.parser')\n",
    "\n",
    "print(soup.select_one('meta[itemprop=\"interactionCount\"][content]')['content'])"
   ]
  },
  {
   "cell_type": "code",
   "execution_count": 39,
   "metadata": {},
   "outputs": [],
   "source": [
    "\n",
    "url = 'https://search.bilibili.com/all?keyword=%E6%A3%AE%E7%BA%B3%E6%98%A0%E7%94%BB'\n",
    "soup = BeautifulSoup(requests.get(url).text)\n",
    "video_list = []\n",
    "for l in soup.find_all('a',{'class':'title'}):\n",
    "    #print(l)\n",
    "    video_list.append(l.get('href'))\n",
    "\n",
    "# for l in soup.find_all('a'):\n",
    "#     print(l.get('href')\n",
    "#     print(l.get('title')\n",
    "#     print"
   ]
  },
  {
   "cell_type": "code",
   "execution_count": 40,
   "metadata": {},
   "outputs": [
    {
     "output_type": "execute_result",
     "data": {
      "text/plain": [
       "['//www.bilibili.com/video/BV1dx411d7kw?from=search',\n",
       " '//www.bilibili.com/video/BV1cs411j7D6?from=search',\n",
       " '//www.bilibili.com/video/BV1C7411q7Ub?from=search',\n",
       " '//www.bilibili.com/video/BV1TW41157VC?from=search',\n",
       " '//www.bilibili.com/video/BV1ib411B78F?from=search',\n",
       " '//www.bilibili.com/video/BV1BJ411x7Tk?from=search',\n",
       " '//www.bilibili.com/video/BV11W411P7ya?from=search',\n",
       " '//www.bilibili.com/video/BV1Mb411F7yj?from=search',\n",
       " '//www.bilibili.com/video/BV1VT4y157fN?from=search',\n",
       " '//www.bilibili.com/video/BV1wb41127Lv?from=search',\n",
       " '//www.bilibili.com/video/BV1hE411274x?from=search',\n",
       " '//www.bilibili.com/video/BV1fA411e729?from=search',\n",
       " '//www.bilibili.com/video/BV1H5411W7qE?from=search',\n",
       " '//www.bilibili.com/video/BV1ax411x7eQ?from=search',\n",
       " '//www.bilibili.com/video/BV1UE411h7wR?from=search',\n",
       " '//www.bilibili.com/video/BV1ft411b7KL?from=search',\n",
       " '//www.bilibili.com/video/BV1yx411472W?from=search',\n",
       " '//www.bilibili.com/video/BV16W411B7N7?from=search',\n",
       " '//www.bilibili.com/video/BV1hJ411H72C?from=search',\n",
       " '//www.bilibili.com/video/BV1bE411k77B?from=search']"
      ]
     },
     "metadata": {},
     "execution_count": 40
    }
   ],
   "source": [
    "# 网址\n",
    "video_list[1:]"
   ]
  },
  {
   "cell_type": "code",
   "execution_count": 41,
   "metadata": {},
   "outputs": [],
   "source": [
    "# 上传时间\n",
    "date = []\n",
    "for i in soup.find_all('span',{'class':'so-icon time'}):\n",
    "    date.append(dt.strptime(i.text.strip(),\"%Y-%m-%d\").date())"
   ]
  },
  {
   "cell_type": "code",
   "execution_count": 42,
   "metadata": {},
   "outputs": [
    {
     "output_type": "stream",
     "name": "stdout",
     "text": [
      "森纳映画\n【不止游戏】孤岛惊魂5 游戏背后的真实历史背景故事\n【不止游戏】揭秘游戏中手榴弹 各种有趣的细节和原理\n【不止游戏】孤岛惊魂5 国民警卫队 游戏更多的细节背景\n【不止游戏】西部时代的左轮手枪和杠杆枪  真实历史背景\n【不止游戏】一颗核弹究竟有多大的威力？\n【不止游戏】彩虹六号围攻 GSG9德国边防第9大队细节 历史\n【不止游戏】游戏中的大杀器 霰弹枪 加特林机枪 马克沁机枪 真实背景故事\n【不止游戏】转身背对闪光弹真的能避免被闪光吗？\n〖游戏不止〗像素到极致的丧尸题材游戏\n【不止游戏】游戏中的黑科技 富尔顿回收系统\n【不止游戏】这恐怕是FC游戏史上最出名的一对主角了。\n【不止游戏】战地V 真实背景故事 SBS英国特种舟艇团\n【不止游戏】“不准后退一步！”二战苏联第227号命令真相\n【不止游戏】揭秘海盗为何总是戴眼罩，钩子手，肩上还站只鹦鹉？\n【不止游戏】为什么会有“排队枪毙”这样的战术出现？\n【不止游戏】绝大部分人都不知道，游戏中瞄具的原理和背后的秘密。\n【不止游戏】彩虹六号围攻 韩国707特种部队历史 细节\n【不止游戏】彩虹六号围攻 BOPE巴西特种警察部队历史 细节\n【不止游戏】彩虹六号围攻 精英皮肤的真实历史背景和细节\n【不止游戏】彩虹六号：幻视行动 真实故事背景\n"
     ]
    }
   ],
   "source": [
    "# 标题\n",
    "for l in soup.find_all('a',{'class':'title'}):\n",
    "    print(l.get('title').strip())\n"
   ]
  },
  {
   "cell_type": "code",
   "execution_count": 30,
   "metadata": {},
   "outputs": [
    {
     "output_type": "stream",
     "name": "stdout",
     "text": [
      "总播放数234244\n【不止游戏】孤岛惊魂5 国民警卫队 游戏更多的细节背景\n"
     ]
    }
   ],
   "source": [
    "url = 'https://www.bilibili.com/video/BV1TW41157VC?from=search'\n",
    "soup = BeautifulSoup(requests.get(url).text)\n",
    "for i in soup.find_all('span',{'class':'view'}):\n",
    "    print(i.get('title'))\n",
    "\n",
    "for i in soup.find_all('h1',{'class':'video-title'}):\n",
    "    print(i.get('title'))"
   ]
  },
  {
   "cell_type": "code",
   "execution_count": 37,
   "metadata": {},
   "outputs": [
    {
     "output_type": "stream",
     "name": "stdout",
     "text": [
      "主站\n游戏中心\n直播\n漫画\n投稿\n投稿\n【不止游戏】孤岛惊魂5 国民警卫队 游戏更多的细节背景\n23.4万播放 ·\n1361弹幕\n2018-04-20 20:58:13\n4651\n3050\n1654\n488\n未经作者授权，禁止转载\n孤岛惊魂5\n游戏\n单机游戏\n\n\n\n评论\n为TA充电\n关注\n          95.9万\n95.9万\n\n\n\n\n\n\n\n\n\n\n\n\n\n\n\n\n\n\n\n\n投稿瓜分5万元~\nmini\nOFF\n"
     ]
    }
   ],
   "source": [
    "for i in soup.find_all('span'):\n",
    "    print(i.text.strip())"
   ]
  },
  {
   "cell_type": "code",
   "execution_count": 47,
   "metadata": {},
   "outputs": [],
   "source": [
    "titles = []\n",
    "views = []\n",
    "dms = []\n",
    "likes = []\n",
    "coins = []\n",
    "collects = []\n",
    "shares = []\n",
    "for link in video_list[1:]:\n",
    "    url = 'https:'+link+'?'\n",
    "    soup = BeautifulSoup(requests.get(url).text)\n",
    "    for i in soup.find_all('h1',{'class':'video-title'}):\n",
    "        titles.append(i.get('title')) # 标题\n",
    "    for i in soup.find_all('span',{'class':'view'}):\n",
    "        views.append(i.get('title').replace('总播放数',''))\n",
    "    for i in soup.find_all('span',{'class':'dm'}):\n",
    "        dms.append(i.get('title').replace('历史累计弹幕数',''))\n",
    "    for i in soup.find_all('span',{'class':'like'}):\n",
    "        likes.append(i.get('title').replace('点赞数',''))\n",
    "    for i in soup.find_all('span',{'class':'coin'}):\n",
    "        coins.append(i.get('title').replace('投硬币枚数',''))\n",
    "    for i in soup.find_all('span',{'class':'collect'}):\n",
    "        collects.append(i.get('title').replace('收藏人数',''))\n",
    "    for i in soup.find_all('span',{'class':'share'}):\n",
    "        shares.append(i.text.strip())\n",
    "\n",
    "data = {\n",
    "    'Title':titles,\n",
    "    'Date': date,\n",
    "    'View': views,\n",
    "    'Danmu':dms,\n",
    "    'Like':likes,\n",
    "    'Coins':coins,\n",
    "    'Collect':collects,\n",
    "    'Share':shares\n",
    "}\n",
    "data = pd.DataFrame(data)\n"
   ]
  },
  {
   "cell_type": "code",
   "execution_count": 48,
   "metadata": {},
   "outputs": [
    {
     "output_type": "execute_result",
     "data": {
      "text/plain": [
       "                                    Title        Date    View Danmu   Like  \\\n",
       "0               【不止游戏】为什么会有“排队枪毙”这样的战术出现？  2019-06-28  263333  1708   9234   \n",
       "1               【不止游戏】孤岛惊魂5 游戏背后的真实历史背景故事  2018-06-26  272401  1054   5372   \n",
       "2  【不止游戏】史上最恶劣的生存之地，1平米挤2个人，港诡实录原型地真实背景故事  2020-01-19  496525  2024  23063   \n",
       "3             【不止游戏】孤岛惊魂5 国民警卫队 游戏更多的细节背景  2018-04-20  234249  1361   4651   \n",
       "4    【不止游戏】游戏中的大杀器 霰弹枪 加特林机枪 马克沁机枪 真实背景故事  2019-03-03  367841  1331  12034   \n",
       "\n",
       "  Coins Collect   Share  \n",
       "0  3261    2463   458.0  \n",
       "1  2201    1705   661.0  \n",
       "2  9324    5233  1257.0  \n",
       "3  3050    1654   488.0  \n",
       "4  4281    2991   307.0  "
      ],
      "text/html": "<div>\n<style scoped>\n    .dataframe tbody tr th:only-of-type {\n        vertical-align: middle;\n    }\n\n    .dataframe tbody tr th {\n        vertical-align: top;\n    }\n\n    .dataframe thead th {\n        text-align: right;\n    }\n</style>\n<table border=\"1\" class=\"dataframe\">\n  <thead>\n    <tr style=\"text-align: right;\">\n      <th></th>\n      <th>Title</th>\n      <th>Date</th>\n      <th>View</th>\n      <th>Danmu</th>\n      <th>Like</th>\n      <th>Coins</th>\n      <th>Collect</th>\n      <th>Share</th>\n    </tr>\n  </thead>\n  <tbody>\n    <tr>\n      <th>0</th>\n      <td>【不止游戏】为什么会有“排队枪毙”这样的战术出现？</td>\n      <td>2019-06-28</td>\n      <td>263333</td>\n      <td>1708</td>\n      <td>9234</td>\n      <td>3261</td>\n      <td>2463</td>\n      <td>458.0</td>\n    </tr>\n    <tr>\n      <th>1</th>\n      <td>【不止游戏】孤岛惊魂5 游戏背后的真实历史背景故事</td>\n      <td>2018-06-26</td>\n      <td>272401</td>\n      <td>1054</td>\n      <td>5372</td>\n      <td>2201</td>\n      <td>1705</td>\n      <td>661.0</td>\n    </tr>\n    <tr>\n      <th>2</th>\n      <td>【不止游戏】史上最恶劣的生存之地，1平米挤2个人，港诡实录原型地真实背景故事</td>\n      <td>2020-01-19</td>\n      <td>496525</td>\n      <td>2024</td>\n      <td>23063</td>\n      <td>9324</td>\n      <td>5233</td>\n      <td>1257.0</td>\n    </tr>\n    <tr>\n      <th>3</th>\n      <td>【不止游戏】孤岛惊魂5 国民警卫队 游戏更多的细节背景</td>\n      <td>2018-04-20</td>\n      <td>234249</td>\n      <td>1361</td>\n      <td>4651</td>\n      <td>3050</td>\n      <td>1654</td>\n      <td>488.0</td>\n    </tr>\n    <tr>\n      <th>4</th>\n      <td>【不止游戏】游戏中的大杀器 霰弹枪 加特林机枪 马克沁机枪 真实背景故事</td>\n      <td>2019-03-03</td>\n      <td>367841</td>\n      <td>1331</td>\n      <td>12034</td>\n      <td>4281</td>\n      <td>2991</td>\n      <td>307.0</td>\n    </tr>\n  </tbody>\n</table>\n</div>"
     },
     "metadata": {},
     "execution_count": 48
    }
   ],
   "source": [
    "data.head(5)"
   ]
  },
  {
   "cell_type": "code",
   "execution_count": 66,
   "metadata": {},
   "outputs": [
    {
     "output_type": "execute_result",
     "data": {
      "text/plain": [
       "['孤岛惊魂5', '游戏', '单机游戏', '国民警卫队', '天启四骑士', '不止游戏']"
      ]
     },
     "metadata": {},
     "execution_count": 66
    }
   ],
   "source": [
    "url = 'https://www.bilibili.com/video/BV1TW41157VC?from=search'\n",
    "soup = BeautifulSoup(requests.get(url).text)\n",
    "\n",
    "tag_list = []\n",
    "\n",
    "for i in soup.find_all('a',{'class':'tag-link'}):\n",
    "    if i.text.strip() not in tag_list:\n",
    "        tag_list.append(i.text.strip())\n",
    "        \n",
    "    #print(i.text.strip())\n",
    "tag_list"
   ]
  },
  {
   "cell_type": "code",
   "execution_count": null,
   "metadata": {},
   "outputs": [],
   "source": []
  }
 ]
}